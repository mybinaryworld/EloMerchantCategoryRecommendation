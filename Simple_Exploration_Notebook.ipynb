{
 "cells": [
  {
   "cell_type": "markdown",
   "metadata": {
    "_uuid": "3b2cd3d87f335dc35d537ca0f31530563ab56725"
   },
   "source": [
    "### Competition Objective\n",
    "\n",
    "Elo is one of the largest payment brands in Brazil, has built partnerships with merchants in order to offer promotions or discounts to cardholders.  The objective of the competition is to identify and serve the most relevant opportunities to individuals, by uncovering signal in customer loyalty.\n",
    "\n",
    "### Objective of the Notebook\n",
    "\n",
    "Explore the data and gain insights that would help in our model building process."
   ]
  },
  {
   "cell_type": "code",
   "execution_count": 4,
   "metadata": {
    "_cell_guid": "b1076dfc-b9ad-4769-8c92-a6c4dae69d19",
    "_kg_hide-input": true,
    "_uuid": "8f2839f25d086af736a60e9eeb907d3b93b6e0e5"
   },
   "outputs": [
    {
     "data": {
      "text/html": [
       "        <script type=\"text/javascript\">\n",
       "        window.PlotlyConfig = {MathJaxConfig: 'local'};\n",
       "        if (window.MathJax) {MathJax.Hub.Config({SVG: {font: \"STIX-Web\"}});}\n",
       "        if (typeof require !== 'undefined') {\n",
       "        require.undef(\"plotly\");\n",
       "        requirejs.config({\n",
       "            paths: {\n",
       "                'plotly': ['https://cdn.plot.ly/plotly-latest.min']\n",
       "            }\n",
       "        });\n",
       "        require(['plotly'], function(Plotly) {\n",
       "            window._Plotly = Plotly;\n",
       "        });\n",
       "        }\n",
       "        </script>\n",
       "        "
      ]
     },
     "metadata": {},
     "output_type": "display_data"
    }
   ],
   "source": [
    "import os\n",
    "import json\n",
    "import numpy as np\n",
    "import pandas as pd\n",
    "from pandas.io.json import json_normalize\n",
    "import matplotlib.pyplot as plt\n",
    "import seaborn as sns\n",
    "color = sns.color_palette()\n",
    "\n",
    "%matplotlib inline\n",
    "\n",
    "from plotly import tools\n",
    "import plotly.offline as py\n",
    "py.init_notebook_mode(connected=True)\n",
    "import plotly.graph_objs as go\n",
    "\n",
    "from sklearn import model_selection, preprocessing, metrics\n",
    "import lightgbm as lgb\n",
    "\n",
    "pd.options.mode.chained_assignment = None\n",
    "pd.options.display.max_columns = 999"
   ]
  },
  {
   "cell_type": "markdown",
   "metadata": {
    "_uuid": "b80cd7ae160231cb08f85b75a8e1743ed5198d98"
   },
   "source": [
    "### Dataset Exploration\n"
   ]
  },
  {
   "cell_type": "code",
   "execution_count": 6,
   "metadata": {},
   "outputs": [
    {
     "data": {
      "text/plain": [
       "'/Users/abhishekkumar/Documents/GitHub/EloMerchantCategoryRecommendation'"
      ]
     },
     "execution_count": 6,
     "metadata": {},
     "output_type": "execute_result"
    }
   ],
   "source": [
    "pwd"
   ]
  },
  {
   "cell_type": "code",
   "execution_count": 8,
   "metadata": {
    "_cell_guid": "79c7e3d0-c299-4dcb-8224-4455121ee9b0",
    "_uuid": "d629ff2d2480ee46fbb7e2d37f6b5fab8052498a",
    "scrolled": true
   },
   "outputs": [
    {
     "name": "stdout",
     "output_type": "stream",
     "text": [
      "Data Dictionary.xlsx          new_merchant_transactions.csv\r\n",
      "Data_Dictionary.xlsx          sample_submission.csv\r\n",
      "historical_transactions.csv   test.csv\r\n",
      "merchants.csv                 train.csv\r\n"
     ]
    }
   ],
   "source": [
    "!ls input/"
   ]
  },
  {
   "cell_type": "markdown",
   "metadata": {
    "_uuid": "7332e3e20838e5097c0e56e2f5697198372dd4ec"
   },
   "source": [
    "So we are given the above files. The description of the files are\n",
    "\n",
    "* train.csv - the training set\n",
    "* test.csv - the test set\n",
    "* sample_submission.csv - a sample submission file in the correct format - contains all the card_ids we are expected to predict.\n",
    "* historical_transactions.csv - up to 3 months' worth of historical transactions for each card_id\n",
    "* merchants.csv - additional information about all merchants / merchant_ids in the dataset.\n",
    "* new_merchant_transactions.csv - two months' worth of data for each card_id containing ALL purchases that card_id made at merchant_ids that were not visited in the historical data.\n",
    "\n",
    "First let's explore the train and test set."
   ]
  },
  {
   "cell_type": "code",
   "execution_count": 9,
   "metadata": {
    "_uuid": "bfdab255f309f4ca9239eaa07f17398e643010a3"
   },
   "outputs": [
    {
     "name": "stdout",
     "output_type": "stream",
     "text": [
      "Number of rows and columns in train set :  (201917, 6)\n",
      "Number of rows and columns in test set :  (123623, 5)\n"
     ]
    }
   ],
   "source": [
    "train_df = pd.read_csv(\"input/train.csv\", parse_dates=[\"first_active_month\"])\n",
    "test_df = pd.read_csv(\"input/test.csv\", parse_dates=[\"first_active_month\"])\n",
    "print(\"Number of rows and columns in train set : \",train_df.shape)\n",
    "print(\"Number of rows and columns in test set : \",test_df.shape)"
   ]
  },
  {
   "cell_type": "code",
   "execution_count": 10,
   "metadata": {
    "_uuid": "a00bb53642516cefacf7159a02e84f0ce26a5d58"
   },
   "outputs": [
    {
     "data": {
      "text/html": [
       "<div>\n",
       "<style scoped>\n",
       "    .dataframe tbody tr th:only-of-type {\n",
       "        vertical-align: middle;\n",
       "    }\n",
       "\n",
       "    .dataframe tbody tr th {\n",
       "        vertical-align: top;\n",
       "    }\n",
       "\n",
       "    .dataframe thead th {\n",
       "        text-align: right;\n",
       "    }\n",
       "</style>\n",
       "<table border=\"1\" class=\"dataframe\">\n",
       "  <thead>\n",
       "    <tr style=\"text-align: right;\">\n",
       "      <th></th>\n",
       "      <th>first_active_month</th>\n",
       "      <th>card_id</th>\n",
       "      <th>feature_1</th>\n",
       "      <th>feature_2</th>\n",
       "      <th>feature_3</th>\n",
       "      <th>target</th>\n",
       "    </tr>\n",
       "  </thead>\n",
       "  <tbody>\n",
       "    <tr>\n",
       "      <td>0</td>\n",
       "      <td>2017-06-01</td>\n",
       "      <td>C_ID_92a2005557</td>\n",
       "      <td>5</td>\n",
       "      <td>2</td>\n",
       "      <td>1</td>\n",
       "      <td>-0.820283</td>\n",
       "    </tr>\n",
       "    <tr>\n",
       "      <td>1</td>\n",
       "      <td>2017-01-01</td>\n",
       "      <td>C_ID_3d0044924f</td>\n",
       "      <td>4</td>\n",
       "      <td>1</td>\n",
       "      <td>0</td>\n",
       "      <td>0.392913</td>\n",
       "    </tr>\n",
       "    <tr>\n",
       "      <td>2</td>\n",
       "      <td>2016-08-01</td>\n",
       "      <td>C_ID_d639edf6cd</td>\n",
       "      <td>2</td>\n",
       "      <td>2</td>\n",
       "      <td>0</td>\n",
       "      <td>0.688056</td>\n",
       "    </tr>\n",
       "    <tr>\n",
       "      <td>3</td>\n",
       "      <td>2017-09-01</td>\n",
       "      <td>C_ID_186d6a6901</td>\n",
       "      <td>4</td>\n",
       "      <td>3</td>\n",
       "      <td>0</td>\n",
       "      <td>0.142495</td>\n",
       "    </tr>\n",
       "    <tr>\n",
       "      <td>4</td>\n",
       "      <td>2017-11-01</td>\n",
       "      <td>C_ID_cdbd2c0db2</td>\n",
       "      <td>1</td>\n",
       "      <td>3</td>\n",
       "      <td>0</td>\n",
       "      <td>-0.159749</td>\n",
       "    </tr>\n",
       "  </tbody>\n",
       "</table>\n",
       "</div>"
      ],
      "text/plain": [
       "  first_active_month          card_id  feature_1  feature_2  feature_3  \\\n",
       "0         2017-06-01  C_ID_92a2005557          5          2          1   \n",
       "1         2017-01-01  C_ID_3d0044924f          4          1          0   \n",
       "2         2016-08-01  C_ID_d639edf6cd          2          2          0   \n",
       "3         2017-09-01  C_ID_186d6a6901          4          3          0   \n",
       "4         2017-11-01  C_ID_cdbd2c0db2          1          3          0   \n",
       "\n",
       "     target  \n",
       "0 -0.820283  \n",
       "1  0.392913  \n",
       "2  0.688056  \n",
       "3  0.142495  \n",
       "4 -0.159749  "
      ]
     },
     "execution_count": 10,
     "metadata": {},
     "output_type": "execute_result"
    }
   ],
   "source": [
    "train_df.head()"
   ]
  },
  {
   "cell_type": "markdown",
   "metadata": {
    "_uuid": "dcc76ca4c430f5c90b4089ebe0dbf55ada020d2b"
   },
   "source": [
    "### Exploring Target Column:"
   ]
  },
  {
   "cell_type": "code",
   "execution_count": 11,
   "metadata": {
    "_kg_hide-input": true,
    "_uuid": "584ac32fd52b6d74472779681a671cc66afa67c6"
   },
   "outputs": [
    {
     "data": {
      "image/png": "[encoded data removed]",
      "text/plain": [
       "<Figure size 576x432 with 1 Axes>"
      ]
     },
     "metadata": {
      "needs_background": "light"
     },
     "output_type": "display_data"
    }
   ],
   "source": [
    "target_col = \"target\"\n",
    "\n",
    "plt.figure(figsize=(8,6))\n",
    "plt.scatter(range(train_df.shape[0]), np.sort(train_df[target_col].values))\n",
    "plt.xlabel('index', fontsize=12)\n",
    "plt.ylabel('Loyalty Score', fontsize=12)\n",
    "plt.show()"
   ]
  },
  {
   "cell_type": "code",
   "execution_count": 12,
   "metadata": {
    "_kg_hide-input": true,
    "_uuid": "93b6dd9e83e3d762a7dd0ac80efedd94a98defb8"
   },
   "outputs": [
    {
     "data": {
      "image/png": "[encoded data removed]",
      "text/plain": [
       "<Figure size 864x576 with 1 Axes>"
      ]
     },
     "metadata": {
      "needs_background": "light"
     },
     "output_type": "display_data"
    }
   ],
   "source": [
    "plt.figure(figsize=(12,8))\n",
    "sns.distplot(train_df[target_col].values, bins=50, kde=False, color=\"red\")\n",
    "plt.title(\"Histogram of Loyalty score\")\n",
    "plt.xlabel('Loyalty score', fontsize=12)\n",
    "plt.show()"
   ]
  },
  {
   "cell_type": "markdown",
   "metadata": {
    "_uuid": "3ac53af6e71346176abafc19666c18d5ee512840"
   },
   "source": [
    "We can see that some of the loyalty values are far apart (less than -30) compared to others. Let us just get their count."
   ]
  },
  {
   "cell_type": "code",
   "execution_count": 13,
   "metadata": {
    "_uuid": "9a6b77591f0cd86505e6bcaac84240af09143011"
   },
   "outputs": [
    {
     "data": {
      "text/plain": [
       "2207"
      ]
     },
     "execution_count": 13,
     "metadata": {},
     "output_type": "execute_result"
    }
   ],
   "source": [
    "(train_df[target_col]<-30).sum()"
   ]
  },
  {
   "cell_type": "markdown",
   "metadata": {
    "_uuid": "0132162b004ec52f5f42c5080886fd932f8aea97"
   },
   "source": [
    "We have about 2207 rows (almost 1% of the data), which has values different from the rest. Since the evaluation metric is RMSE these rows might play an important role."
   ]
  },
  {
   "cell_type": "markdown",
   "metadata": {
    "_uuid": "f0077823b76b67ff16106bdce2bc03c30db16543"
   },
   "source": [
    "### First Active Month\n",
    "\n",
    "In this section, let us see if there are any distribution change between train and test sets with respect to first active month of the card."
   ]
  },
  {
   "cell_type": "code",
   "execution_count": 14,
   "metadata": {
    "_kg_hide-input": true,
    "_uuid": "e1bad37ff53af54a0e42f3ab2512e9b7e5615f00"
   },
   "outputs": [
    {
     "data": {
      "image/png": "[encoded data removed]",
      "text/plain": [
       "<Figure size 1008x432 with 1 Axes>"
      ]
     },
     "metadata": {
      "needs_background": "light"
     },
     "output_type": "display_data"
    },
    {
     "data": {
      "image/png": "[encoded data removed]",
      "text/plain": [
       "<Figure size 1008x432 with 1 Axes>"
      ]
     },
     "metadata": {
      "needs_background": "light"
     },
     "output_type": "display_data"
    }
   ],
   "source": [
    "cnt_srs = train_df['first_active_month'].dt.date.value_counts()\n",
    "cnt_srs = cnt_srs.sort_index()\n",
    "plt.figure(figsize=(14,6))\n",
    "sns.barplot(cnt_srs.index, cnt_srs.values, alpha=0.8, color='green')\n",
    "plt.xticks(rotation='vertical')\n",
    "plt.xlabel('First active month', fontsize=12)\n",
    "plt.ylabel('Number of cards', fontsize=12)\n",
    "plt.title(\"First active month count in train set\")\n",
    "plt.show()\n",
    "\n",
    "cnt_srs = test_df['first_active_month'].dt.date.value_counts()\n",
    "cnt_srs = cnt_srs.sort_index()\n",
    "plt.figure(figsize=(14,6))\n",
    "sns.barplot(cnt_srs.index, cnt_srs.values, alpha=0.8, color='green')\n",
    "plt.xticks(rotation='vertical')\n",
    "plt.xlabel('First active month', fontsize=12)\n",
    "plt.ylabel('Number of cards', fontsize=12)\n",
    "plt.title(\"First active month count in test set\")\n",
    "plt.show()"
   ]
  },
  {
   "cell_type": "markdown",
   "metadata": {
    "_uuid": "98e7987dcb9628e93107fe4ad9fe8f6e6e054bf4"
   },
   "source": [
    "Looks like the distribution is similar between train and test set. So we need not really have to do time based split I think.\n",
    "\n",
    "### Feature 1,2 & 3:"
   ]
  },
  {
   "cell_type": "markdown",
   "metadata": {
    "_uuid": "a2da071d99e4006ba77b8669e5a1a21acc557906"
   },
   "source": [
    "In this section, let us see if the other variables in the train dataset has good predictive power in finding the loyalty score."
   ]
  },
  {
   "cell_type": "code",
   "execution_count": 15,
   "metadata": {
    "_kg_hide-input": true,
    "_uuid": "bfca0eaf96632146c7a0f725ce2075ff1405b6f0"
   },
   "outputs": [
    {
     "data": {
      "image/png": "[encoded data removed]",
      "text/plain": [
       "<Figure size 576x288 with 1 Axes>"
      ]
     },
     "metadata": {
      "needs_background": "light"
     },
     "output_type": "display_data"
    },
    {
     "data": {
      "image/png": "[encoded data removed]",
      "text/plain": [
       "<Figure size 576x288 with 1 Axes>"
      ]
     },
     "metadata": {
      "needs_background": "light"
     },
     "output_type": "display_data"
    },
    {
     "data": {
      "image/png": "[encoded data removed]",
      "text/plain": [
       "<Figure size 576x288 with 1 Axes>"
      ]
     },
     "metadata": {
      "needs_background": "light"
     },
     "output_type": "display_data"
    }
   ],
   "source": [
    "# feature 1\n",
    "plt.figure(figsize=(8,4))\n",
    "sns.violinplot(x=\"feature_1\", y=target_col, data=train_df)\n",
    "plt.xticks(rotation='vertical')\n",
    "plt.xlabel('Feature 1', fontsize=12)\n",
    "plt.ylabel('Loyalty score', fontsize=12)\n",
    "plt.title(\"Feature 1 distribution\")\n",
    "plt.show()\n",
    "\n",
    "# feature 2\n",
    "plt.figure(figsize=(8,4))\n",
    "sns.violinplot(x=\"feature_2\", y=target_col, data=train_df)\n",
    "plt.xticks(rotation='vertical')\n",
    "plt.xlabel('Feature 2', fontsize=12)\n",
    "plt.ylabel('Loyalty score', fontsize=12)\n",
    "plt.title(\"Feature 2 distribution\")\n",
    "plt.show()\n",
    "\n",
    "# feature 3\n",
    "plt.figure(figsize=(8,4))\n",
    "sns.violinplot(x=\"feature_3\", y=target_col, data=train_df)\n",
    "plt.xticks(rotation='vertical')\n",
    "plt.xlabel('Feature 3', fontsize=12)\n",
    "plt.ylabel('Loyalty score', fontsize=12)\n",
    "plt.title(\"Feature 3 distribution\")\n",
    "plt.show()"
   ]
  },
  {
   "cell_type": "markdown",
   "metadata": {
    "_uuid": "80b2a72f84348e2008d2d948a23239917f676461"
   },
   "source": [
    "To the naked eyes, the distribution of the different categories in all three features look kind of similar. May be the models are able to find something here. "
   ]
  },
  {
   "cell_type": "markdown",
   "metadata": {
    "_uuid": "f829143f2ca82af92aa793c7cee8effcc5fb1d8e"
   },
   "source": [
    "### Historical Transactions:\n",
    "\n",
    "Now let us look at the historical transactions data for the cards."
   ]
  },
  {
   "cell_type": "code",
   "execution_count": 21,
   "metadata": {
    "_uuid": "ebb27ee19be1dc40b94731d4dcd0ce670aacc86d"
   },
   "outputs": [
    {
     "data": {
      "text/html": [
       "<div>\n",
       "<style scoped>\n",
       "    .dataframe tbody tr th:only-of-type {\n",
       "        vertical-align: middle;\n",
       "    }\n",
       "\n",
       "    .dataframe tbody tr th {\n",
       "        vertical-align: top;\n",
       "    }\n",
       "\n",
       "    .dataframe thead th {\n",
       "        text-align: right;\n",
       "    }\n",
       "</style>\n",
       "<table border=\"1\" class=\"dataframe\">\n",
       "  <thead>\n",
       "    <tr style=\"text-align: right;\">\n",
       "      <th></th>\n",
       "      <th>authorized_flag</th>\n",
       "      <th>card_id</th>\n",
       "      <th>city_id</th>\n",
       "      <th>category_1</th>\n",
       "      <th>installments</th>\n",
       "      <th>category_3</th>\n",
       "      <th>merchant_category_id</th>\n",
       "      <th>merchant_id</th>\n",
       "      <th>month_lag</th>\n",
       "      <th>purchase_amount</th>\n",
       "      <th>purchase_date</th>\n",
       "      <th>category_2</th>\n",
       "      <th>state_id</th>\n",
       "      <th>subsector_id</th>\n",
       "    </tr>\n",
       "  </thead>\n",
       "  <tbody>\n",
       "    <tr>\n",
       "      <td>0</td>\n",
       "      <td>Y</td>\n",
       "      <td>C_ID_4e6213e9bc</td>\n",
       "      <td>88</td>\n",
       "      <td>N</td>\n",
       "      <td>0</td>\n",
       "      <td>A</td>\n",
       "      <td>80</td>\n",
       "      <td>M_ID_e020e9b302</td>\n",
       "      <td>-8</td>\n",
       "      <td>-0.703331</td>\n",
       "      <td>2017-06-25 15:33:07</td>\n",
       "      <td>1.0</td>\n",
       "      <td>16</td>\n",
       "      <td>37</td>\n",
       "    </tr>\n",
       "    <tr>\n",
       "      <td>1</td>\n",
       "      <td>Y</td>\n",
       "      <td>C_ID_4e6213e9bc</td>\n",
       "      <td>88</td>\n",
       "      <td>N</td>\n",
       "      <td>0</td>\n",
       "      <td>A</td>\n",
       "      <td>367</td>\n",
       "      <td>M_ID_86ec983688</td>\n",
       "      <td>-7</td>\n",
       "      <td>-0.733128</td>\n",
       "      <td>2017-07-15 12:10:45</td>\n",
       "      <td>1.0</td>\n",
       "      <td>16</td>\n",
       "      <td>16</td>\n",
       "    </tr>\n",
       "    <tr>\n",
       "      <td>2</td>\n",
       "      <td>Y</td>\n",
       "      <td>C_ID_4e6213e9bc</td>\n",
       "      <td>88</td>\n",
       "      <td>N</td>\n",
       "      <td>0</td>\n",
       "      <td>A</td>\n",
       "      <td>80</td>\n",
       "      <td>M_ID_979ed661fc</td>\n",
       "      <td>-6</td>\n",
       "      <td>-0.720386</td>\n",
       "      <td>2017-08-09 22:04:29</td>\n",
       "      <td>1.0</td>\n",
       "      <td>16</td>\n",
       "      <td>37</td>\n",
       "    </tr>\n",
       "    <tr>\n",
       "      <td>3</td>\n",
       "      <td>Y</td>\n",
       "      <td>C_ID_4e6213e9bc</td>\n",
       "      <td>88</td>\n",
       "      <td>N</td>\n",
       "      <td>0</td>\n",
       "      <td>A</td>\n",
       "      <td>560</td>\n",
       "      <td>M_ID_e6d5ae8ea6</td>\n",
       "      <td>-5</td>\n",
       "      <td>-0.735352</td>\n",
       "      <td>2017-09-02 10:06:26</td>\n",
       "      <td>1.0</td>\n",
       "      <td>16</td>\n",
       "      <td>34</td>\n",
       "    </tr>\n",
       "    <tr>\n",
       "      <td>4</td>\n",
       "      <td>Y</td>\n",
       "      <td>C_ID_4e6213e9bc</td>\n",
       "      <td>88</td>\n",
       "      <td>N</td>\n",
       "      <td>0</td>\n",
       "      <td>A</td>\n",
       "      <td>80</td>\n",
       "      <td>M_ID_e020e9b302</td>\n",
       "      <td>-11</td>\n",
       "      <td>-0.722865</td>\n",
       "      <td>2017-03-10 01:14:19</td>\n",
       "      <td>1.0</td>\n",
       "      <td>16</td>\n",
       "      <td>37</td>\n",
       "    </tr>\n",
       "  </tbody>\n",
       "</table>\n",
       "</div>"
      ],
      "text/plain": [
       "  authorized_flag          card_id  city_id category_1  installments  \\\n",
       "0               Y  C_ID_4e6213e9bc       88          N             0   \n",
       "1               Y  C_ID_4e6213e9bc       88          N             0   \n",
       "2               Y  C_ID_4e6213e9bc       88          N             0   \n",
       "3               Y  C_ID_4e6213e9bc       88          N             0   \n",
       "4               Y  C_ID_4e6213e9bc       88          N             0   \n",
       "\n",
       "  category_3  merchant_category_id      merchant_id  month_lag  \\\n",
       "0          A                    80  M_ID_e020e9b302         -8   \n",
       "1          A                   367  M_ID_86ec983688         -7   \n",
       "2          A                    80  M_ID_979ed661fc         -6   \n",
       "3          A                   560  M_ID_e6d5ae8ea6         -5   \n",
       "4          A                    80  M_ID_e020e9b302        -11   \n",
       "\n",
       "   purchase_amount        purchase_date  category_2  state_id  subsector_id  \n",
       "0        -0.703331  2017-06-25 15:33:07         1.0        16            37  \n",
       "1        -0.733128  2017-07-15 12:10:45         1.0        16            16  \n",
       "2        -0.720386  2017-08-09 22:04:29         1.0        16            37  \n",
       "3        -0.735352  2017-09-02 10:06:26         1.0        16            34  \n",
       "4        -0.722865  2017-03-10 01:14:19         1.0        16            37  "
      ]
     },
     "execution_count": 21,
     "metadata": {},
     "output_type": "execute_result"
    }
   ],
   "source": [
    "hist_df = pd.read_csv(\"input/historical_transactions.csv\")\n",
    "hist_df.head()"
   ]
  },
  {
   "cell_type": "markdown",
   "metadata": {
    "_uuid": "9603854979b42cd70d2d1f7fa714b63dc8c1e933"
   },
   "source": [
    "The field descriptions are as follows:\n",
    "* card_id\t- Card identifier\n",
    "* month_lag\t- month lag to reference date\n",
    "* purchase_date\t- Purchase date\n",
    "* authorized_flag -\t'Y' if approved, 'N' if denied\n",
    "* category_3 - anonymized category\n",
    "* installments -\tnumber of installments of purchase\n",
    "* category_1 -\tanonymized category\n",
    "* merchant_category_id -\tMerchant category identifier (anonymized )\n",
    "* subsector_id -\tMerchant category group identifier (anonymized )\n",
    "* merchant_id -\tMerchant identifier (anonymized)\n",
    "* purchase_amount -\tNormalized purchase amount\n",
    "* city_id -\tCity identifier (anonymized )\n",
    "* state_id -\tState identifier (anonymized )\n",
    "* category_2 -\tanonymized category\n",
    "\n",
    "### Let's make some new feature and add it to train and test set \n",
    "#### Number of Historical Transactions for the card"
   ]
  },
  {
   "cell_type": "code",
   "execution_count": 22,
   "metadata": {
    "_kg_hide-input": true,
    "_uuid": "756c8ef8d3756fb21365e0a66540b7eb92a0b5d3"
   },
   "outputs": [],
   "source": [
    "gdf = hist_df.groupby(\"card_id\")\n",
    "gdf = gdf[\"purchase_amount\"].size().reset_index()\n",
    "gdf.columns = [\"card_id\", \"num_hist_transactions\"]\n",
    "train_df = pd.merge(train_df, gdf, on=\"card_id\", how=\"left\")\n",
    "test_df = pd.merge(test_df, gdf, on=\"card_id\", how=\"left\")"
   ]
  },
  {
   "cell_type": "code",
   "execution_count": 23,
   "metadata": {
    "_kg_hide-input": true,
    "_uuid": "2778542c23b6484319e7818c120a30adc07a4ccb"
   },
   "outputs": [
    {
     "data": {
      "application/vnd.plotly.v1+json": {
       "config": {
        "linkText": "Export to plot.ly",
        "plotlyServerURL": "https://plot.ly",
        "showLink": false
       },
       "data": [
        {
         "marker": {
          "color": "orange"
         },
         "showlegend": false,
         "type": "scatter",
         "x": [
          1118,
          1113,
          1112,
          1109,
          1107,
          1104,
          1103,
          1101,
          1099,
          1097,
          1089,
          1086,
          1083,
          1081,
          1078,
          1077,
          1076,
          1075,
          1073,
          1072,
          1071,
          1068,
          1059,
          1058,
          1052,
          1050,
          1049,
          1045,
          1042,
          1041,
          1039,
          1036,
          1033,
          1029,
          1027,
          1026,
          1025,
          1022,
          1021,
          1019,
          1018,
          1017,
          1016,
          1015,
          1012,
          1011,
          1009,
          1008,
          1007,
          1005,
          1002,
          1001,
          1000,
          998,
          997,
          996,
          993,
          992,
          991,
          988,
          987,
          986,
          983,
          981,
          978,
          977,
          975,
          974,
          970,
          969,
          967,
          964,
          960,
          957,
          955,
          954,
          952,
          950,
          948,
          947,
          946,
          945,
          942,
          941,
          938,
          936,
          935,
          933,
          931,
          930,
          929,
          926,
          925,
          924,
          921,
          920,
          918,
          917,
          915,
          914,
          913,
          912,
          911,
          910,
          908,
          904,
          903,
          900,
          898,
          896,
          893,
          892,
          890,
          889,
          888,
          887,
          884,
          880,
          879,
          878,
          877,
          875,
          874,
          873,
          872,
          871,
          870,
          869,
          868,
          865,
          864,
          863,
          862,
          860,
          859,
          857,
          856,
          855,
          854,
          853,
          852,
          851,
          850,
          849,
          848,
          847,
          846,
          845,
          844,
          843,
          842,
          840,
          839,
          838,
          837,
          836,
          834,
          832,
          831,
          830,
          828,
          826,
          825,
          824,
          823,
          822,
          821,
          820,
          819,
          818,
          817,
          816,
          815,
          814,
          811,
          810,
          808,
          807,
          806,
          805,
          804,
          803,
          802,
          801,
          799,
          798,
          797,
          796,
          795,
          794,
          793,
          792,
          791,
          790,
          788,
          787,
          786,
          785,
          783,
          782,
          781,
          780,
          779,
          778,
          777,
          776,
          775,
          774,
          773,
          772,
          771,
          768,
          767,
          766,
          764,
          763,
          762,
          761,
          760,
          759,
          758,
          756,
          755,
          754,
          753,
          752,
          751,
          750,
          748,
          747,
          746,
          745,
          744,
          743,
          742,
          741,
          740,
          739,
          738,
          737,
          736,
          735,
          734,
          733,
          732,
          731,
          730,
          729,
          728,
          727,
          726,
          725,
          724,
          723,
          722,
          720,
          719,
          718,
          717,
          716,
          715,
          714,
          713,
          712,
          711,
          710,
          709,
          708,
          707,
          706,
          705,
          704,
          703,
          702,
          701,
          700,
          699,
          698,
          697,
          696,
          695,
          694,
          693,
          692,
          691,
          690,
          689,
          688,
          687,
          686,
          685,
          684,
          683,
          682,
          681,
          680,
          679,
          678,
          677,
          676,
          675,
          674,
          673,
          672,
          671,
          670,
          669,
          668,
          667,
          666,
          665,
          664,
          663,
          662,
          661,
          660,
          659,
          658,
          657,
          656,
          655,
          654,
          653,
          652,
          651,
          650,
          649,
          648,
          647,
          646,
          645,
          644,
          643,
          642,
          641,
          640,
          639,
          638,
          637,
          636,
          635,
          634,
          633,
          632,
          631,
          630,
          629,
          628,
          627,
          626,
          625,
          624,
          623,
          622,
          621,
          620,
          619,
          617,
          616,
          615,
          614,
          613,
          612,
          611,
          610,
          609,
          608,
          607,
          606,
          605,
          604,
          603,
          602,
          601,
          600,
          599,
          598,
          597,
          596,
          595,
          594,
          593,
          592,
          591,
          590,
          589,
          588,
          587,
          586,
          585,
          584,
          583,
          582,
          581,
          580,
          579,
          578,
          577,
          576,
          575,
          574,
          573,
          572,
          571,
          570,
          569,
          568,
          567,
          566,
          565,
          564,
          563,
          562,
          561,
          560,
          559,
          558,
          557,
          556,
          555,
          554,
          553,
          552,
          551,
          550,
          549,
          548,
          547,
          546,
          545,
          544,
          543,
          542,
          541,
          540,
          539,
          538,
          537,
          536,
          535,
          534,
          533,
          532,
          531,
          530,
          529,
          528,
          527,
          526,
          525,
          524,
          523,
          522,
          521,
          520,
          519,
          518,
          517,
          516,
          515,
          514,
          513,
          512,
          511,
          510,
          509,
          508,
          507,
          506,
          505,
          504,
          503,
          502,
          501,
          500,
          499,
          498,
          497,
          496,
          495,
          494,
          493,
          492,
          491,
          490,
          489,
          488,
          487,
          486,
          485,
          484,
          483,
          482,
          481,
          480,
          479,
          478,
          477,
          476,
          475,
          474,
          473,
          472,
          471,
          470,
          469,
          468,
          467,
          466,
          465,
          464,
          463,
          462,
          461,
          460,
          459,
          458,
          457,
          456,
          455,
          454,
          453,
          452,
          451,
          450,
          449,
          448,
          447,
          446,
          445,
          444,
          443,
          442,
          441,
          440,
          439,
          438,
          437,
          436,
          435,
          434,
          433,
          432,
          431,
          430,
          429,
          428,
          427,
          426,
          425,
          424,
          423,
          422,
          421,
          420,
          419,
          418,
          417,
          416,
          415,
          414,
          413,
          412,
          411,
          410,
          409,
          408,
          407,
          406,
          405,
          404,
          403,
          402,
          401,
          400,
          399,
          398,
          397,
          396,
          395,
          394,
          393,
          392,
          391,
          390,
          389,
          388,
          387,
          386,
          385,
          384,
          383,
          382,
          381,
          380,
          379,
          378,
          377,
          376,
          375,
          374,
          373,
          372,
          371,
          370,
          369,
          368,
          367,
          366,
          365,
          364,
          363,
          362,
          361,
          360,
          359,
          358,
          357,
          356,
          355,
          354,
          353,
          352,
          351,
          350,
          349,
          348,
          347,
          346,
          345,
          344,
          343,
          342,
          341,
          340,
          339,
          338,
          337,
          336,
          335,
          334,
          333,
          332,
          331,
          330,
          329,
          328,
          327,
          326,
          325,
          324,
          323,
          322,
          321,
          320,
          319,
          318,
          317,
          316,
          315,
          314,
          313,
          312,
          311,
          310,
          309,
          308,
          307,
          306,
          305,
          304,
          303,
          302,
          301,
          300,
          299,
          298,
          297,
          296,
          295,
          294,
          293,
          292,
          291,
          290,
          289,
          288,
          287,
          286,
          285,
          284,
          283,
          282,
          281,
          280,
          279,
          278,
          277,
          276,
          275,
          274,
          273,
          272,
          271,
          270,
          269,
          268,
          267,
          266,
          265,
          264,
          263,
          262,
          261,
          260,
          259,
          258,
          257,
          256,
          255,
          254,
          253,
          252,
          251,
          250,
          249,
          248,
          247,
          246,
          245,
          244,
          243,
          242,
          241,
          240,
          239,
          238,
          237,
          236,
          235,
          234,
          233,
          232,
          231,
          230,
          229,
          228,
          227,
          226,
          225,
          224,
          223,
          222,
          221,
          220,
          219,
          218,
          217,
          216,
          215,
          214,
          213,
          212,
          211,
          210,
          209,
          208,
          207,
          206,
          205,
          204,
          203,
          202,
          201,
          200,
          199,
          198,
          197,
          196,
          195,
          194,
          193,
          192,
          191,
          190,
          189,
          188,
          187,
          186,
          185,
          184,
          183,
          182,
          181,
          180,
          179,
          178,
          177,
          176,
          175,
          174,
          173,
          172,
          171,
          170,
          169,
          168,
          167,
          166,
          165,
          164,
          163,
          162,
          161,
          160,
          159,
          158,
          157,
          156,
          155,
          154,
          153,
          152,
          151,
          150,
          149,
          148,
          147,
          146,
          145,
          144,
          143,
          142,
          141,
          140,
          139,
          138,
          137,
          136,
          135,
          134,
          133,
          132,
          131,
          130,
          129,
          128,
          127,
          126,
          125,
          124,
          123,
          122,
          121,
          120,
          119,
          118,
          117,
          116,
          115,
          114,
          113,
          112,
          111,
          110,
          109,
          108,
          107,
          106,
          105,
          104,
          103,
          102,
          101,
          100,
          99,
          98,
          97,
          96,
          95,
          94,
          93,
          92,
          91,
          90,
          89,
          88,
          87,
          86,
          85,
          84,
          83,
          82,
          81,
          80,
          79,
          78,
          77,
          76,
          75,
          74,
          73,
          72,
          71,
          70,
          69,
          68,
          67,
          66,
          65,
          64,
          63,
          62,
          61,
          60,
          59,
          58,
          57,
          56,
          55,
          54,
          53,
          52,
          51,
          50,
          49,
          48,
          47,
          46,
          45,
          44,
          43,
          42,
          41,
          40,
          39,
          38,
          37,
          36,
          35,
          34,
          33,
          32,
          31,
          30,
          29,
          28,
          27,
          26,
          25,
          24,
          23,
          22,
          21,
          20,
          19,
          18,
          17,
          16,
          15,
          14,
          13,
          12,
          11,
          10,
          9,
          8,
          7,
          6,
          5,
          4,
          3,
          2
         ],
         "y": [
          0.02830406,
          1.15066363,
          -0.66295207,
          0.05161445,
          -0.34416968,
          -0.86698585,
          -0.4065612,
          0.37151652,
          -0.19486776,
          0.23282037,
          -0.77484431,
          -0.77376341,
          0.27360899,
          -0.17856161,
          -1.06173576,
          -0.29998348,
          -0.34914673,
          -1.38387503,
          0.6359472,
          0.71045539,
          -0.30343270333333333,
          0.4018832,
          -0.14555726,
          -1.54850355,
          0.2945539,
          -2.61701914,
          0.19330934,
          -0.71222565,
          0.25270231,
          -0.15299748,
          -2.27143836,
          0.01549028,
          0.26504824,
          -0.38080494,
          -0.70124907,
          0.76828882,
          0.05249477000000001,
          -0.09730068,
          -0.38901841,
          0.77512289,
          -0.19545196,
          -0.97724242,
          0.4360888,
          0.38720501,
          0.121620055,
          -0.453516935,
          -0.40276161,
          0.28374859,
          1.99374185,
          0.14362569333333333,
          0.011457645000000016,
          -0.02659041,
          -0.47656353,
          -0.427367985,
          -0.48794635,
          0.06550226,
          -0.25500562,
          1.24955358,
          -1.6864182,
          -0.22768320500000006,
          -0.03098982,
          4.91646047,
          0.468493,
          -0.42940381,
          -0.5139367,
          -0.33487933,
          0.5656716333333334,
          0.45349809,
          -0.01800109,
          0.17105874000000001,
          -0.15504529,
          -0.37382046,
          1.62411153,
          0.06249228,
          0.63050086,
          -0.4673497,
          0.00651518,
          -2.31881659,
          0.31470737,
          -0.17119339,
          2.44719553,
          0.36616949,
          0.23746711,
          -0.83600269,
          -2.0739314699999998,
          0.11953177,
          0.28585068,
          2.71305478,
          -0.3079224,
          -0.09871426,
          -0.73733698,
          0.04036441,
          -0.21392770500000002,
          -2.355507365,
          -0.15531868,
          1.37991997,
          -1.06963128,
          0.11904832399999998,
          0.38975095,
          -0.570544905,
          0.81152091,
          0.21891384499999997,
          0.209520325,
          0.269466,
          0.59303873,
          -0.13063142,
          -0.008236115000000002,
          -0.70814697,
          0.04103268,
          -0.46555198,
          0.42520765499999996,
          0.16072163,
          -17.202074465,
          -0.52238181,
          2.1389504799999997,
          -0.34235357,
          -0.03287037,
          0.26526799,
          -2.98440081,
          -0.26405062500000004,
          -0.10782922333333333,
          -0.14236290999999995,
          -0.17573709,
          0.47545559,
          -0.53258112,
          -0.26779715,
          0.29972386333333334,
          -1.2940424099999999,
          0.23622332,
          -1.04654465,
          0.24208398,
          0.27509811,
          -0.5660980675,
          -0.519462885,
          0.17542868,
          1.3673508550000002,
          0.52725122,
          -0.66897332,
          -0.10805497,
          -0.62055476,
          -1.03026545,
          0.22683685000000003,
          -0.8138581033333332,
          -0.46864611,
          0.973505995,
          -0.48396086499999996,
          0.77460016,
          -0.563029335,
          -0.09521613999999995,
          -0.94201813,
          -0.30764698,
          -2.4579650849999997,
          -0.14281328666666668,
          -1.20049488,
          0.015050449999999993,
          0.425826315,
          0.52718999,
          0.21261213333333337,
          -0.92797818,
          0.258704045,
          -0.011402533999999997,
          -0.07000852000000002,
          0.74938254,
          -0.17762604,
          -0.48450697,
          0.79307722,
          -0.21447454,
          0.14283561666666666,
          -0.505807015,
          1.0692337466666666,
          0.27401016,
          -1.15496647,
          -0.15510080999999998,
          -0.6959392799999999,
          -0.595841735,
          -0.4534879828571428,
          0.21489394,
          -0.36881418,
          -0.257512375,
          0.044219344999999965,
          -0.41089708,
          -0.31177377,
          -0.05003516,
          1.2647566900000002,
          -0.02738261,
          0.306016395,
          1.36242235,
          -0.209353055,
          -0.83674885,
          -0.07443738,
          -3.49183707,
          0.19069567666666667,
          -0.680498695,
          -0.17096511,
          1.018329185,
          -1.22154251,
          -0.7080661950000001,
          0.31499903,
          -2.415820975,
          -0.38477867,
          -0.7049591640000001,
          0.9402619225,
          -0.03582573,
          1.2831406674999999,
          0.36742500666666666,
          0.15452985,
          -0.35087729,
          -0.269511555,
          -0.5783520440000001,
          -0.05906134,
          -0.576662,
          -0.27427275,
          0.404630745,
          -0.7110393150000001,
          -0.606749695,
          -0.02413458,
          0.06510275999999998,
          -0.29100414,
          -0.10900537285714285,
          0.056735165000000004,
          -0.60202158,
          -0.28058062500000003,
          -0.4259616574999999,
          -0.22529868,
          -0.49149196,
          -0.05796348,
          -0.13010941499999998,
          -0.39876836,
          -3.2239874050000004,
          -0.10256048,
          0.288812285,
          -33.21928095,
          0.15944862166666665,
          0.4042702966666667,
          0.15740484666666668,
          -0.84365395,
          -0.19227155333333334,
          -0.46561836,
          -0.183668926,
          -0.77090461,
          0.56770842,
          -16.236329155,
          -0.13420503,
          -1.053996108,
          0.16814751166666675,
          -0.07361566333333336,
          -0.38934157999999996,
          -0.66582864,
          -0.32009893,
          -0.39336755,
          0.82789563,
          -0.05201076714285716,
          0.20063987333333333,
          -0.069424415,
          0.18978246666666665,
          -0.02064882,
          -0.5885557166666667,
          0.137426895,
          -0.46915518,
          -0.04413218249999999,
          -0.3785479042857142,
          0.11244308333333335,
          -1.572526225,
          -0.5423456125,
          0.00133284,
          0.16007314,
          2.95080906,
          -0.003828903333333337,
          -0.7365116033333333,
          0.26520960666666665,
          0.30076463000000003,
          0.6819635933333333,
          0.056109622499999984,
          0.011203359999999975,
          0.4647928057142857,
          -0.171711098,
          -0.04342393555555556,
          -0.6458121325,
          0.472284195,
          -0.506701018,
          -0.35276298500000003,
          -0.21002439500000006,
          -0.5051980975,
          0.8558465900000001,
          -0.11141742,
          -0.29659114999999997,
          0.1425756,
          -0.2593370428571428,
          0.08421991399999999,
          -0.85922926,
          -0.19385829,
          -0.11257979750000002,
          0.5834246833333334,
          -0.7304416816666667,
          -0.07979821666666664,
          -0.2376611683333333,
          0.418570285,
          0.02647526,
          -0.660970458,
          -0.677549865,
          -0.27963120666666663,
          -0.83715085,
          -0.01378095800000002,
          -1.1807854899999999,
          -0.08389195833333335,
          -0.703237925,
          0.10003461999999999,
          0.35567526000000005,
          -0.56482401,
          -0.6104070075,
          -0.8534113716666667,
          -0.12301586249999999,
          -0.6472326571428572,
          -0.6884496933333333,
          -1.8873547175,
          0.17170503333333334,
          -1.0490666083333333,
          -0.23230515666666662,
          -1.944921845,
          -0.11655589666666666,
          -0.20333980000000001,
          -0.02954851285714286,
          0.7072997333333334,
          -1.18991868,
          -0.47586282,
          0.21409125333333334,
          0.33092142166666666,
          -1.3162849200000002,
          0.17876491000000003,
          -0.306994992,
          -2.064933207142857,
          -0.351045822,
          -0.1870211575,
          -0.17720436749999996,
          0.027132917499999985,
          -0.12937922833333335,
          -1.4991336966666668,
          -0.18455011111111105,
          0.8882076725,
          -0.12146122699999999,
          -0.3460788633333334,
          -0.3849860785714286,
          0.2360301783333333,
          -0.8200610266666667,
          -0.599180945,
          -0.66523432,
          -0.336886304,
          0.1995477500000001,
          -0.19687256250000001,
          0.566524165,
          0.07367112571428576,
          -0.01546021000000003,
          -0.09758792818181818,
          0.030942241428571406,
          -0.40419495000000005,
          -0.19318417625,
          -0.06713763083333334,
          -0.25898914,
          1.2718100499999998,
          -0.0655591057142857,
          0.4459508714285714,
          0.4850531742857144,
          -0.245285195,
          -0.300774955,
          -0.342484068,
          -0.03384008000000005,
          0.22707358000000002,
          -0.08449854799999998,
          0.018273548333333337,
          0.2392710542857143,
          -0.8843997771428572,
          -0.6016482616666666,
          0.28718465666666665,
          -0.76969619,
          0.1531162375,
          -0.11826233416666666,
          -0.11083314428571425,
          -0.35980980125,
          -4.591001461428571,
          -0.03312468714285714,
          -0.17539553833333335,
          -0.132166475,
          -0.6344933427272728,
          0.16251843571428573,
          -2.683153273,
          -0.653795474,
          0.026186660000000028,
          0.23337810833333336,
          -0.15351653111111108,
          0.15710383777777778,
          -0.180375595,
          0.09235089800000003,
          -0.10636339666666667,
          -0.35628414199999997,
          0.35937186899999995,
          -0.462048195,
          -0.16414591125,
          -0.04902704999999993,
          -0.873193108888889,
          -0.05939712181818182,
          -0.254612505,
          -1.282779143,
          -0.8201491969999999,
          -2.846859442307692,
          -0.29213463,
          -0.18394183666666666,
          -0.17872557111111098,
          -0.19760609846153845,
          -0.5836831318181818,
          -0.03129298800000001,
          -0.23570717000000002,
          -0.025790991333333322,
          0.4342829666666666,
          -0.34588853166666667,
          -0.7773526975,
          0.02947152363636364,
          -0.5633368274999999,
          -0.32412762266666667,
          -0.7056172423076923,
          -0.543955546,
          0.380303345,
          0.016137592857142852,
          -1.2666495640000002,
          0.8755026677777777,
          0.12303130692307691,
          0.008570083749999999,
          0.04711874363636364,
          0.22733891285714283,
          -0.01835876111111112,
          -3.5341215819999996,
          -0.20319557153846157,
          0.15251500666666665,
          0.060317700714285716,
          -3.121146135454545,
          -0.5105532923076923,
          -4.63176007875,
          -0.05173121333333333,
          -0.707434706,
          0.149565368125,
          -0.7936639684615383,
          -1.194665154,
          0.19679238235294122,
          -0.2376517466666667,
          -0.25429384624999996,
          0.03872643800000001,
          -0.41426929875000007,
          -0.270802754,
          0.20119315666666668,
          -0.3235215311111111,
          0.015514664117647056,
          -0.38229078666666677,
          -0.23936693,
          -0.7854536592307692,
          -2.886136533333333,
          -0.27365595583333335,
          0.14343377545454547,
          -0.3608140018181818,
          0.11385710166666667,
          0.2291775061538461,
          -0.10561100272727274,
          0.12234778090909092,
          -0.30476623461538466,
          0.011784770000000007,
          -0.27144354545454547,
          -0.36194728230769224,
          -0.544543578,
          -0.7603864080000002,
          -0.15292922500000003,
          -0.7456929723529412,
          -0.35772299444444444,
          0.2433646286666667,
          0.03980784500000001,
          -0.22156887615384607,
          0.46732425312500003,
          -0.03758147733333334,
          -0.38010583722222224,
          -0.296248384347826,
          -0.7629784744444444,
          0.07455965846153845,
          -0.4622114029411765,
          -0.3257811382352941,
          -4.122852322105263,
          -0.24924629200000006,
          -0.26597795999999996,
          -4.017914533,
          -0.43515605363636367,
          0.08036659533333333,
          -0.19579085181818182,
          -0.10638736866666666,
          0.22531858,
          -0.14923961875,
          -0.4218187368421053,
          -0.3538665982352941,
          -0.2377820631578947,
          -2.3259679994117652,
          -2.190318024375,
          -0.10170764444444441,
          0.09806627705882352,
          -4.172389438124998,
          -0.15492662533333335,
          -0.38989027032258056,
          -0.412636465,
          0.03657213600000002,
          -0.5900316876923077,
          -0.537852369,
          0.15319019533333333,
          -0.5091498255,
          -0.14956252294117645,
          -2.0650880984210525,
          -0.3051065628571429,
          -0.18493619,
          -0.3013624064705883,
          0.4352250047826086,
          -0.9040033311538461,
          -1.2741451993548387,
          -0.26333956272727277,
          0.26889495500000005,
          -0.35380389687499997,
          -2.3760093661538457,
          0.09860610173913045,
          0.035429262592592554,
          -0.5342373709523809,
          -0.07891026350000002,
          -0.7006265541666666,
          -0.534693849375,
          0.32044648227272726,
          -0.2205573304347826,
          -1.3862143923333337,
          -0.2703143813793104,
          -0.24795919500000005,
          -0.13121544190476195,
          -0.09054886149999998,
          -0.08951988210526307,
          -0.4228407588461538,
          -1.3214885695999998,
          -0.02680567375000003,
          -0.23618378642857146,
          0.1387560633333333,
          0.1843574466666667,
          -0.05976064874999994,
          -0.06629971000000001,
          -0.0828801124137931,
          -0.02957349794117648,
          -0.49375271551724137,
          -0.18054960391304348,
          -0.3276178251282051,
          -0.064910195,
          -0.4465811483333333,
          -0.29983558588235293,
          -1.5727968036666666,
          0.023095925652173888,
          0.04726234296296298,
          -0.04809291961538455,
          -2.0811849152631576,
          -0.5180632840625,
          -0.2564566240540541,
          0.27369318852941177,
          -0.19126086735294118,
          -0.02367056899999998,
          -0.249555722173913,
          0.01672942344827586,
          -0.6705922813043479,
          0.3200673809375,
          -0.10651287925925935,
          -0.007364135000000009,
          -0.4441290560000001,
          -0.5892249113333334,
          -0.29606375222222214,
          -0.05976142516129034,
          0.09216294189189189,
          -0.12519406433333333,
          -0.035060074285714275,
          -1.746674399230769,
          -0.22515853878048783,
          -0.027629427499999984,
          -1.1214008233333337,
          -1.1566104062499998,
          -0.3507732548,
          -1.3269396273529408,
          -0.3566154103333333,
          -0.11180781405405406,
          -0.4209122226923077,
          -0.6470484754285715,
          -0.1359580175,
          -0.9748161763157893,
          -0.47325722289473693,
          -2.1562115171875003,
          -0.15334776468749997,
          -0.38975690175,
          -0.4458955221739131,
          -0.21523539282051282,
          -1.878690336451613,
          -1.0670544545714284,
          0.06449853586206894,
          -1.5811288725581398,
          -1.4142279899999999,
          -0.43772194999999997,
          -0.15299189510638297,
          -1.8702005164285715,
          -0.18301559309523815,
          0.15468405166666668,
          -0.29051264727272735,
          -0.25834761787234045,
          -0.18302925862068964,
          -0.673116066875,
          -0.2096980326666667,
          -0.28866947719298247,
          -0.2067999071052632,
          -0.16478928619999997,
          -0.8909170738461537,
          -0.01605505458333333,
          -0.9954370724444445,
          -0.25727526822222224,
          -0.22659878342857143,
          0.15617035282608696,
          0.01123894190476187,
          -0.34782315526315793,
          0.09888074550000002,
          -0.6077966415384617,
          -1.6742168666666664,
          0.08234047424242423,
          -0.1980385023404255,
          -0.6389576193333334,
          -0.04890753063829784,
          0.08122604466666668,
          -1.1221460327272728,
          -0.13433978458333332,
          -0.08844904999999999,
          0.2587764236,
          -0.25701249018867917,
          -0.04498386431818181,
          0.0037684845614035104,
          -0.807976837755102,
          -0.17484765060000004,
          -0.062191110731707355,
          -0.05997460178571427,
          -0.34644626487804875,
          -0.21730017357142847,
          -0.7026050193220339,
          -0.23376421087719293,
          -0.016290901320754725,
          -0.7289009407272729,
          0.040258601355932185,
          -0.2754601471428571,
          -0.1290288690740741,
          -0.09376807764705883,
          -0.40386154338983044,
          0.04139840779999998,
          -0.23522489561403498,
          -0.2983044447826087,
          0.06409736727272729,
          -0.09208819678571425,
          -0.3486895228358209,
          0.05147646440677962,
          0.0390916317910448,
          -0.12416771867924531,
          -0.3257433949315067,
          -0.4341213208474576,
          -0.060416351746031785,
          -0.06047645540983612,
          -1.6728991707462686,
          -1.0135001717460315,
          -0.46148013921874986,
          -0.2143206046428571,
          -0.13309931042253517,
          -0.684344892686567,
          -0.24710134985915477,
          -0.13867775971428575,
          -0.20905931955882354,
          -0.7469718384057973,
          -0.22503470170731704,
          -0.011779109375000046,
          -0.11402489901639347,
          -0.9128261053246748,
          -0.43662621471264373,
          -0.04219892692307691,
          -0.2150612289552239,
          -0.77467708125,
          0.2646752439189189,
          -0.2534944766666667,
          -0.089960262987013,
          0.02960550895522388,
          -0.1043575380645161,
          -0.6060867785882353,
          -0.595019223678161,
          -0.43578645079545447,
          -0.6631588670731706,
          -0.11842583149532714,
          -0.7543356007446812,
          -0.18693925195652175,
          -0.19450721288659786,
          -0.4818625720270271,
          -0.1536969893617021,
          -0.2222531868831169,
          -0.5563736144943822,
          -0.8019297555172418,
          -0.04494549288288293,
          -0.12512245422222235,
          -0.30181280849462355,
          -0.17273139155844158,
          -0.3780157524528302,
          -0.21924344931818185,
          -0.4803957365882353,
          -0.14299328411111106,
          0.006202169125000015,
          -0.06932008176470586,
          -0.8321326815909095,
          -0.8110515420560749,
          -0.26022617646464635,
          -0.6170635592500002,
          -0.2984062892156863,
          -0.22486730494382018,
          -0.47822860000000017,
          -0.6062528580898876,
          -0.8517954796739132,
          -0.8054005088659794,
          -0.19279849268518523,
          -0.21887500776595734,
          -0.17984206644859818,
          -1.190621770792079,
          -0.230116839047619,
          -0.1410255240566039,
          -0.6663859853571428,
          -0.36908757090909095,
          -0.3981648105468749,
          -0.5317203161983471,
          -0.19645772913043477,
          -0.7193535972566374,
          -0.3053417207476634,
          -0.4633147605645161,
          -1.1724919430827068,
          -1.0201912401470583,
          -0.45355009028301885,
          -1.0094768391666664,
          -0.4418354597560975,
          -0.46860849007092203,
          -0.6265894570833329,
          -0.35799605607999985,
          -0.47637934102941176,
          -0.7767832320967741,
          -0.5453909961594203,
          -0.2743307842537312,
          -0.5350291504761906,
          -0.3339060346874999,
          -0.6552450803100774,
          -0.4164544257258063,
          -0.7923171007936507,
          -0.07250562679012351,
          -0.7985809800787401,
          -0.5783662438167939,
          -0.047826452468354444,
          -0.24724159687074826,
          -0.4265686405161291,
          -0.5896488330612242,
          -0.557043749769231,
          -0.1073252307936508,
          -0.3813995937106915,
          -0.4571399059027777,
          -0.21762678363636348,
          -0.3161325967032967,
          -0.49821037682634756,
          -0.3849918457333334,
          -0.3279522976729558,
          -0.4856869852046784,
          -0.9258231213407817,
          -0.38071858078651666,
          -0.6952679099999997,
          -1.1775821809195397,
          -0.8339312529213483,
          -0.7760765818823534,
          -0.42824149224719105,
          -0.7333937186702131,
          -0.31721599060240974,
          -0.24700073942196527,
          -0.38859424047945235,
          -0.3929141411940298,
          -0.5583375652173914,
          -0.4923615170238095,
          -0.4497581051807228,
          -1.0813916122282605,
          -0.43050007284946235,
          -0.24928975461139902,
          -0.9648376264651164,
          -0.9101395746696037,
          -0.06975284432835821,
          -0.22865362751111093,
          -0.22196684449760767,
          -0.27978248882978735,
          -0.48512042405857725,
          -0.47712367330396477,
          -0.3324844870535716,
          -0.3685967934703195,
          -1.0914305665354336,
          -0.6295235068325788,
          -0.5959178888888883,
          -0.3286440395670994,
          -0.6835910795964122,
          -0.31034322824,
          -0.7089981038799998,
          -0.3064614193360996,
          -0.4572900607024791,
          -0.3903528432618024,
          -0.6616624875390622,
          -0.8108368281632652,
          -0.13676781875000005,
          -0.1982714766283526,
          -0.30624690496240625,
          -0.6888273522614842,
          -0.5269692720344831,
          -0.30660963290540516,
          -0.32256766559701494,
          -0.6449374895357144,
          -0.7713685681338026,
          -0.4837040447388059,
          -0.35307408996466444,
          -0.5667109327397263,
          -0.37022978301003334,
          -0.7010816767592594,
          -0.78430950109215,
          -0.3375050140963856,
          -0.4868673081210191,
          -0.20672425801242245,
          -0.40697393496913564,
          -0.7914621700940443,
          -0.35719922006230537,
          -0.7065269447647059,
          -0.6801577607260726,
          -0.4934795054573169,
          -0.5538320623511904,
          -0.4335955316816813,
          -0.41905153524064176,
          -0.3270263227195466,
          -0.26557594109589033,
          -0.6190856939240504,
          -0.4457263124146978,
          -0.28908509855670095,
          -0.5924760730922695,
          -0.3854205580622006,
          -0.674582609090909,
          -0.30527944670241286,
          -0.5284692320936645,
          -0.32739260897560984,
          -0.32083129347931877,
          -0.8548724002803741,
          -0.6501903378708133,
          -0.6968725582261641,
          -0.4953134365161287,
          -0.3090932037558683,
          -0.9254697994945051,
          -0.4943303332071711,
          -0.791821820251046,
          -0.34157310114285716,
          -0.25559804916488227,
          -0.640230312624999,
          -0.49567761878048766,
          -0.3784412971026158,
          -0.2593302387615526,
          -0.47768552138888903,
          -0.10490996622137402,
          -0.6733125369202902,
          -0.5697613518592058,
          -0.4402172997486535,
          -0.6548904835883425,
          -0.28135375406749547,
          -0.3862378997391302,
          -0.3765601847619045,
          -0.6385463229752071,
          -0.47752028659432383,
          -0.46932631385259693,
          -0.5014100093069314,
          -0.7041685562358642,
          -0.4698735887692308,
          -0.9134680666719487,
          -0.4401244627477474,
          -0.7317997372398194,
          -0.3502307025806451,
          -0.44646153186646403,
          -0.7372360821045193,
          -0.36312329349162015,
          -0.4370622337700144,
          -0.43939125405099116,
          -0.6204018914597543,
          -0.7492668440949929,
          -0.7133417435422,
          -0.41419851606340796,
          -0.43204334717647064,
          -0.6462069807338313,
          -0.6823805752853599,
          -0.662781443786407,
          -0.3773307235599076,
          -0.5779256067597094,
          -0.3628466450337085,
          -0.43829394254608256,
          -0.5055813215092293,
          -0.7240794005748385,
          -0.5577945037590362,
          -0.5212573194376274,
          -0.4590787187055011,
          -0.6523090479212907,
          -0.4472711107470647,
          -0.6528376334705879,
          -0.7049327485883515,
          -0.5186146898065175,
          -0.629312548070176,
          -0.6994189548014773,
          -0.6004629905062087,
          -0.21471303570772018,
          -0.48487278487935664,
          -0.5132361910446495,
          -0.5392545469308598,
          -0.4694558643999991,
          -0.3965319760325202,
          -0.4352179293729381,
          -0.4569107076841249,
          -0.6395603724883361,
          -0.5956576326169712,
          -0.2756441077531648,
          -0.5913738052264007,
          -0.4247234338964988,
          -0.3624902681666662,
          -0.30997141910818704,
          -0.4130897576238333,
          -0.45485215350730734,
          -0.48764942907713527,
          -0.47450247133159246,
          -0.47084151488888853,
          -0.3989726393171367,
          -0.4165583880863035,
          -0.39154595982535534,
          -0.29257007994089895,
          -0.3366861304910988,
          -0.3731995679758307,
          -0.4054647264093571,
          -0.29710518846820755,
          -0.3873219315974623,
          -0.3414264699511132,
          -0.5362445766485608,
          -0.5213411421334738,
          -0.3325787556656019,
          -0.27876757668212226,
          -0.3714693623038482,
          -0.3925499220944956,
          -0.3495900991964722,
          -0.4547011316521743,
          -0.3619403609623428,
          -0.5050959131643191,
          -0.2481142595004344,
          -0.4185033736911231,
          -0.18926128687974933,
          -0.29118583031786904,
          -0.3818457781638043,
          -0.2593886025734978,
          -0.2820031055766054,
          -0.3127647946166076,
          -0.34630385606907205,
          -0.23255744457142838,
          -0.2394020986936415,
          -0.2644045209304208,
          -0.22075631395339473,
          -0.22213860573628902,
          -0.24599907689408979,
          -0.2004722893618709,
          -0.1051667375132708,
          -0.32118609798076875,
          -0.0320452188205828,
          -0.11481482409986256,
          -0.03740862530645163,
          0.02472058041617819,
          0.12138051838194433,
          0.2259220494961246,
          0.1689635809266943,
          0.14051706400630914,
          -0.30301999764705884
         ]
        }
       ],
       "layout": {
        "template": {
         "data": {
          "bar": [
           {
            "error_x": {
             "color": "#2a3f5f"
            },
            "error_y": {
             "color": "#2a3f5f"
            },
            "marker": {
             "line": {
              "color": "#E5ECF6",
              "width": 0.5
             }
            },
            "type": "bar"
           }
          ],
          "barpolar": [
           {
            "marker": {
             "line": {
              "color": "#E5ECF6",
              "width": 0.5
             }
            },
            "type": "barpolar"
           }
          ],
          "carpet": [
           {
            "aaxis": {
             "endlinecolor": "#2a3f5f",
             "gridcolor": "white",
             "linecolor": "white",
             "minorgridcolor": "white",
             "startlinecolor": "#2a3f5f"
            },
            "baxis": {
             "endlinecolor": "#2a3f5f",
             "gridcolor": "white",
             "linecolor": "white",
             "minorgridcolor": "white",
             "startlinecolor": "#2a3f5f"
            },
            "type": "carpet"
           }
          ],
          "choropleth": [
           {
            "colorbar": {
             "outlinewidth": 0,
             "ticks": ""
            },
            "type": "choropleth"
           }
          ],
          "contour": [
           {
            "colorbar": {
             "outlinewidth": 0,
             "ticks": ""
            },
            "colorscale": [
             [
              0,
              "#0d0887"
             ],
             [
              0.1111111111111111,
              "#46039f"
             ],
             [
              0.2222222222222222,
              "#7201a8"
             ],
             [
              0.3333333333333333,
              "#9c179e"
             ],
             [
              0.4444444444444444,
              "#bd3786"
             ],
             [
              0.5555555555555556,
              "#d8576b"
             ],
             [
              0.6666666666666666,
              "#ed7953"
             ],
             [
              0.7777777777777778,
              "#fb9f3a"
             ],
             [
              0.8888888888888888,
              "#fdca26"
             ],
             [
              1,
              "#f0f921"
             ]
            ],
            "type": "contour"
           }
          ],
          "contourcarpet": [
           {
            "colorbar": {
             "outlinewidth": 0,
             "ticks": ""
            },
            "type": "contourcarpet"
           }
          ],
          "heatmap": [
           {
            "colorbar": {
             "outlinewidth": 0,
             "ticks": ""
            },
            "colorscale": [
             [
              0,
              "#0d0887"
             ],
             [
              0.1111111111111111,
              "#46039f"
             ],
             [
              0.2222222222222222,
              "#7201a8"
             ],
             [
              0.3333333333333333,
              "#9c179e"
             ],
             [
              0.4444444444444444,
              "#bd3786"
             ],
             [
              0.5555555555555556,
              "#d8576b"
             ],
             [
              0.6666666666666666,
              "#ed7953"
             ],
             [
              0.7777777777777778,
              "#fb9f3a"
             ],
             [
              0.8888888888888888,
              "#fdca26"
             ],
             [
              1,
              "#f0f921"
             ]
            ],
            "type": "heatmap"
           }
          ],
          "heatmapgl": [
           {
            "colorbar": {
             "outlinewidth": 0,
             "ticks": ""
            },
            "colorscale": [
             [
              0,
              "#0d0887"
             ],
             [
              0.1111111111111111,
              "#46039f"
             ],
             [
              0.2222222222222222,
              "#7201a8"
             ],
             [
              0.3333333333333333,
              "#9c179e"
             ],
             [
              0.4444444444444444,
              "#bd3786"
             ],
             [
              0.5555555555555556,
              "#d8576b"
             ],
             [
              0.6666666666666666,
              "#ed7953"
             ],
             [
              0.7777777777777778,
              "#fb9f3a"
             ],
             [
              0.8888888888888888,
              "#fdca26"
             ],
             [
              1,
              "#f0f921"
             ]
            ],
            "type": "heatmapgl"
           }
          ],
          "histogram": [
           {
            "marker": {
             "colorbar": {
              "outlinewidth": 0,
              "ticks": ""
             }
            },
            "type": "histogram"
           }
          ],
          "histogram2d": [
           {
            "colorbar": {
             "outlinewidth": 0,
             "ticks": ""
            },
            "colorscale": [
             [
              0,
              "#0d0887"
             ],
             [
              0.1111111111111111,
              "#46039f"
             ],
             [
              0.2222222222222222,
              "#7201a8"
             ],
             [
              0.3333333333333333,
              "#9c179e"
             ],
             [
              0.4444444444444444,
              "#bd3786"
             ],
             [
              0.5555555555555556,
              "#d8576b"
             ],
             [
              0.6666666666666666,
              "#ed7953"
             ],
             [
              0.7777777777777778,
              "#fb9f3a"
             ],
             [
              0.8888888888888888,
              "#fdca26"
             ],
             [
              1,
              "#f0f921"
             ]
            ],
            "type": "histogram2d"
           }
          ],
          "histogram2dcontour": [
           {
            "colorbar": {
             "outlinewidth": 0,
             "ticks": ""
            },
            "colorscale": [
             [
              0,
              "#0d0887"
             ],
             [
              0.1111111111111111,
              "#46039f"
             ],
             [
              0.2222222222222222,
              "#7201a8"
             ],
             [
              0.3333333333333333,
              "#9c179e"
             ],
             [
              0.4444444444444444,
              "#bd3786"
             ],
             [
              0.5555555555555556,
              "#d8576b"
             ],
             [
              0.6666666666666666,
              "#ed7953"
             ],
             [
              0.7777777777777778,
              "#fb9f3a"
             ],
             [
              0.8888888888888888,
              "#fdca26"
             ],
             [
              1,
              "#f0f921"
             ]
            ],
            "type": "histogram2dcontour"
           }
          ],
          "mesh3d": [
           {
            "colorbar": {
             "outlinewidth": 0,
             "ticks": ""
            },
            "type": "mesh3d"
           }
          ],
          "parcoords": [
           {
            "line": {
             "colorbar": {
              "outlinewidth": 0,
              "ticks": ""
             }
            },
            "type": "parcoords"
           }
          ],
          "pie": [
           {
            "automargin": true,
            "type": "pie"
           }
          ],
          "scatter": [
           {
            "marker": {
             "colorbar": {
              "outlinewidth": 0,
              "ticks": ""
             }
            },
            "type": "scatter"
           }
          ],
          "scatter3d": [
           {
            "line": {
             "colorbar": {
              "outlinewidth": 0,
              "ticks": ""
             }
            },
            "marker": {
             "colorbar": {
              "outlinewidth": 0,
              "ticks": ""
             }
            },
            "type": "scatter3d"
           }
          ],
          "scattercarpet": [
           {
            "marker": {
             "colorbar": {
              "outlinewidth": 0,
              "ticks": ""
             }
            },
            "type": "scattercarpet"
           }
          ],
          "scattergeo": [
           {
            "marker": {
             "colorbar": {
              "outlinewidth": 0,
              "ticks": ""
             }
            },
            "type": "scattergeo"
           }
          ],
          "scattergl": [
           {
            "marker": {
             "colorbar": {
              "outlinewidth": 0,
              "ticks": ""
             }
            },
            "type": "scattergl"
           }
          ],
          "scattermapbox": [
           {
            "marker": {
             "colorbar": {
              "outlinewidth": 0,
              "ticks": ""
             }
            },
            "type": "scattermapbox"
           }
          ],
          "scatterpolar": [
           {
            "marker": {
             "colorbar": {
              "outlinewidth": 0,
              "ticks": ""
             }
            },
            "type": "scatterpolar"
           }
          ],
          "scatterpolargl": [
           {
            "marker": {
             "colorbar": {
              "outlinewidth": 0,
              "ticks": ""
             }
            },
            "type": "scatterpolargl"
           }
          ],
          "scatterternary": [
           {
            "marker": {
             "colorbar": {
              "outlinewidth": 0,
              "ticks": ""
             }
            },
            "type": "scatterternary"
           }
          ],
          "surface": [
           {
            "colorbar": {
             "outlinewidth": 0,
             "ticks": ""
            },
            "colorscale": [
             [
              0,
              "#0d0887"
             ],
             [
              0.1111111111111111,
              "#46039f"
             ],
             [
              0.2222222222222222,
              "#7201a8"
             ],
             [
              0.3333333333333333,
              "#9c179e"
             ],
             [
              0.4444444444444444,
              "#bd3786"
             ],
             [
              0.5555555555555556,
              "#d8576b"
             ],
             [
              0.6666666666666666,
              "#ed7953"
             ],
             [
              0.7777777777777778,
              "#fb9f3a"
             ],
             [
              0.8888888888888888,
              "#fdca26"
             ],
             [
              1,
              "#f0f921"
             ]
            ],
            "type": "surface"
           }
          ],
          "table": [
           {
            "cells": {
             "fill": {
              "color": "#EBF0F8"
             },
             "line": {
              "color": "white"
             }
            },
            "header": {
             "fill": {
              "color": "#C8D4E3"
             },
             "line": {
              "color": "white"
             }
            },
            "type": "table"
           }
          ]
         },
         "layout": {
          "annotationdefaults": {
           "arrowcolor": "#2a3f5f",
           "arrowhead": 0,
           "arrowwidth": 1
          },
          "coloraxis": {
           "colorbar": {
            "outlinewidth": 0,
            "ticks": ""
           }
          },
          "colorscale": {
           "diverging": [
            [
             0,
             "#8e0152"
            ],
            [
             0.1,
             "#c51b7d"
            ],
            [
             0.2,
             "#de77ae"
            ],
            [
             0.3,
             "#f1b6da"
            ],
            [
             0.4,
             "#fde0ef"
            ],
            [
             0.5,
             "#f7f7f7"
            ],
            [
             0.6,
             "#e6f5d0"
            ],
            [
             0.7,
             "#b8e186"
            ],
            [
             0.8,
             "#7fbc41"
            ],
            [
             0.9,
             "#4d9221"
            ],
            [
             1,
             "#276419"
            ]
           ],
           "sequential": [
            [
             0,
             "#0d0887"
            ],
            [
             0.1111111111111111,
             "#46039f"
            ],
            [
             0.2222222222222222,
             "#7201a8"
            ],
            [
             0.3333333333333333,
             "#9c179e"
            ],
            [
             0.4444444444444444,
             "#bd3786"
            ],
            [
             0.5555555555555556,
             "#d8576b"
            ],
            [
             0.6666666666666666,
             "#ed7953"
            ],
            [
             0.7777777777777778,
             "#fb9f3a"
            ],
            [
             0.8888888888888888,
             "#fdca26"
            ],
            [
             1,
             "#f0f921"
            ]
           ],
           "sequentialminus": [
            [
             0,
             "#0d0887"
            ],
            [
             0.1111111111111111,
             "#46039f"
            ],
            [
             0.2222222222222222,
             "#7201a8"
            ],
            [
             0.3333333333333333,
             "#9c179e"
            ],
            [
             0.4444444444444444,
             "#bd3786"
            ],
            [
             0.5555555555555556,
             "#d8576b"
            ],
            [
             0.6666666666666666,
             "#ed7953"
            ],
            [
             0.7777777777777778,
             "#fb9f3a"
            ],
            [
             0.8888888888888888,
             "#fdca26"
            ],
            [
             1,
             "#f0f921"
            ]
           ]
          },
          "colorway": [
           "#636efa",
           "#EF553B",
           "#00cc96",
           "#ab63fa",
           "#FFA15A",
           "#19d3f3",
           "#FF6692",
           "#B6E880",
           "#FF97FF",
           "#FECB52"
          ],
          "font": {
           "color": "#2a3f5f"
          },
          "geo": {
           "bgcolor": "white",
           "lakecolor": "white",
           "landcolor": "#E5ECF6",
           "showlakes": true,
           "showland": true,
           "subunitcolor": "white"
          },
          "hoverlabel": {
           "align": "left"
          },
          "hovermode": "closest",
          "mapbox": {
           "style": "light"
          },
          "paper_bgcolor": "white",
          "plot_bgcolor": "#E5ECF6",
          "polar": {
           "angularaxis": {
            "gridcolor": "white",
            "linecolor": "white",
            "ticks": ""
           },
           "bgcolor": "#E5ECF6",
           "radialaxis": {
            "gridcolor": "white",
            "linecolor": "white",
            "ticks": ""
           }
          },
          "scene": {
           "xaxis": {
            "backgroundcolor": "#E5ECF6",
            "gridcolor": "white",
            "gridwidth": 2,
            "linecolor": "white",
            "showbackground": true,
            "ticks": "",
            "zerolinecolor": "white"
           },
           "yaxis": {
            "backgroundcolor": "#E5ECF6",
            "gridcolor": "white",
            "gridwidth": 2,
            "linecolor": "white",
            "showbackground": true,
            "ticks": "",
            "zerolinecolor": "white"
           },
           "zaxis": {
            "backgroundcolor": "#E5ECF6",
            "gridcolor": "white",
            "gridwidth": 2,
            "linecolor": "white",
            "showbackground": true,
            "ticks": "",
            "zerolinecolor": "white"
           }
          },
          "shapedefaults": {
           "line": {
            "color": "#2a3f5f"
           }
          },
          "ternary": {
           "aaxis": {
            "gridcolor": "white",
            "linecolor": "white",
            "ticks": ""
           },
           "baxis": {
            "gridcolor": "white",
            "linecolor": "white",
            "ticks": ""
           },
           "bgcolor": "#E5ECF6",
           "caxis": {
            "gridcolor": "white",
            "linecolor": "white",
            "ticks": ""
           }
          },
          "title": {
           "x": 0.05
          },
          "xaxis": {
           "automargin": true,
           "gridcolor": "white",
           "linecolor": "white",
           "ticks": "",
           "title": {
            "standoff": 15
           },
           "zerolinecolor": "white",
           "zerolinewidth": 2
          },
          "yaxis": {
           "automargin": true,
           "gridcolor": "white",
           "linecolor": "white",
           "ticks": "",
           "title": {
            "standoff": 15
           },
           "zerolinecolor": "white",
           "zerolinewidth": 2
          }
         }
        },
        "title": {
         "text": "Loyalty score by Number of historical transactions"
        }
       }
      },
      "text/html": [
       "<div>\n",
       "        \n",
       "        \n",
       "            <div id=\"2dcaea25-5bdc-4c42-a76e-519f12d7f018\" class=\"plotly-graph-div\" style=\"height:525px; width:100%;\"></div>\n",
       "            <script type=\"text/javascript\">\n",
       "                require([\"plotly\"], function(Plotly) {\n",
       "                    window.PLOTLYENV=window.PLOTLYENV || {};\n",
       "                    \n",
       "                if (document.getElementById(\"2dcaea25-5bdc-4c42-a76e-519f12d7f018\")) {\n",
       "                    Plotly.newPlot(\n",
       "                        '2dcaea25-5bdc-4c42-a76e-519f12d7f018',\n",
       "                        [{\"marker\": {\"color\": \"orange\"}, \"showlegend\": false, \"type\": \"scatter\", \"x\": [1118, 1113, 1112, 1109, 1107, 1104, 1103, 1101, 1099, 1097, 1089, 1086, 1083, 1081, 1078, 1077, 1076, 1075, 1073, 1072, 1071, 1068, 1059, 1058, 1052, 1050, 1049, 1045, 1042, 1041, 1039, 1036, 1033, 1029, 1027, 1026, 1025, 1022, 1021, 1019, 1018, 1017, 1016, 1015, 1012, 1011, 1009, 1008, 1007, 1005, 1002, 1001, 1000, 998, 997, 996, 993, 992, 991, 988, 987, 986, 983, 981, 978, 977, 975, 974, 970, 969, 967, 964, 960, 957, 955, 954, 952, 950, 948, 947, 946, 945, 942, 941, 938, 936, 935, 933, 931, 930, 929, 926, 925, 924, 921, 920, 918, 917, 915, 914, 913, 912, 911, 910, 908, 904, 903, 900, 898, 896, 893, 892, 890, 889, 888, 887, 884, 880, 879, 878, 877, 875, 874, 873, 872, 871, 870, 869, 868, 865, 864, 863, 862, 860, 859, 857, 856, 855, 854, 853, 852, 851, 850, 849, 848, 847, 846, 845, 844, 843, 842, 840, 839, 838, 837, 836, 834, 832, 831, 830, 828, 826, 825, 824, 823, 822, 821, 820, 819, 818, 817, 816, 815, 814, 811, 810, 808, 807, 806, 805, 804, 803, 802, 801, 799, 798, 797, 796, 795, 794, 793, 792, 791, 790, 788, 787, 786, 785, 783, 782, 781, 780, 779, 778, 777, 776, 775, 774, 773, 772, 771, 768, 767, 766, 764, 763, 762, 761, 760, 759, 758, 756, 755, 754, 753, 752, 751, 750, 748, 747, 746, 745, 744, 743, 742, 741, 740, 739, 738, 737, 736, 735, 734, 733, 732, 731, 730, 729, 728, 727, 726, 725, 724, 723, 722, 720, 719, 718, 717, 716, 715, 714, 713, 712, 711, 710, 709, 708, 707, 706, 705, 704, 703, 702, 701, 700, 699, 698, 697, 696, 695, 694, 693, 692, 691, 690, 689, 688, 687, 686, 685, 684, 683, 682, 681, 680, 679, 678, 677, 676, 675, 674, 673, 672, 671, 670, 669, 668, 667, 666, 665, 664, 663, 662, 661, 660, 659, 658, 657, 656, 655, 654, 653, 652, 651, 650, 649, 648, 647, 646, 645, 644, 643, 642, 641, 640, 639, 638, 637, 636, 635, 634, 633, 632, 631, 630, 629, 628, 627, 626, 625, 624, 623, 622, 621, 620, 619, 617, 616, 615, 614, 613, 612, 611, 610, 609, 608, 607, 606, 605, 604, 603, 602, 601, 600, 599, 598, 597, 596, 595, 594, 593, 592, 591, 590, 589, 588, 587, 586, 585, 584, 583, 582, 581, 580, 579, 578, 577, 576, 575, 574, 573, 572, 571, 570, 569, 568, 567, 566, 565, 564, 563, 562, 561, 560, 559, 558, 557, 556, 555, 554, 553, 552, 551, 550, 549, 548, 547, 546, 545, 544, 543, 542, 541, 540, 539, 538, 537, 536, 535, 534, 533, 532, 531, 530, 529, 528, 527, 526, 525, 524, 523, 522, 521, 520, 519, 518, 517, 516, 515, 514, 513, 512, 511, 510, 509, 508, 507, 506, 505, 504, 503, 502, 501, 500, 499, 498, 497, 496, 495, 494, 493, 492, 491, 490, 489, 488, 487, 486, 485, 484, 483, 482, 481, 480, 479, 478, 477, 476, 475, 474, 473, 472, 471, 470, 469, 468, 467, 466, 465, 464, 463, 462, 461, 460, 459, 458, 457, 456, 455, 454, 453, 452, 451, 450, 449, 448, 447, 446, 445, 444, 443, 442, 441, 440, 439, 438, 437, 436, 435, 434, 433, 432, 431, 430, 429, 428, 427, 426, 425, 424, 423, 422, 421, 420, 419, 418, 417, 416, 415, 414, 413, 412, 411, 410, 409, 408, 407, 406, 405, 404, 403, 402, 401, 400, 399, 398, 397, 396, 395, 394, 393, 392, 391, 390, 389, 388, 387, 386, 385, 384, 383, 382, 381, 380, 379, 378, 377, 376, 375, 374, 373, 372, 371, 370, 369, 368, 367, 366, 365, 364, 363, 362, 361, 360, 359, 358, 357, 356, 355, 354, 353, 352, 351, 350, 349, 348, 347, 346, 345, 344, 343, 342, 341, 340, 339, 338, 337, 336, 335, 334, 333, 332, 331, 330, 329, 328, 327, 326, 325, 324, 323, 322, 321, 320, 319, 318, 317, 316, 315, 314, 313, 312, 311, 310, 309, 308, 307, 306, 305, 304, 303, 302, 301, 300, 299, 298, 297, 296, 295, 294, 293, 292, 291, 290, 289, 288, 287, 286, 285, 284, 283, 282, 281, 280, 279, 278, 277, 276, 275, 274, 273, 272, 271, 270, 269, 268, 267, 266, 265, 264, 263, 262, 261, 260, 259, 258, 257, 256, 255, 254, 253, 252, 251, 250, 249, 248, 247, 246, 245, 244, 243, 242, 241, 240, 239, 238, 237, 236, 235, 234, 233, 232, 231, 230, 229, 228, 227, 226, 225, 224, 223, 222, 221, 220, 219, 218, 217, 216, 215, 214, 213, 212, 211, 210, 209, 208, 207, 206, 205, 204, 203, 202, 201, 200, 199, 198, 197, 196, 195, 194, 193, 192, 191, 190, 189, 188, 187, 186, 185, 184, 183, 182, 181, 180, 179, 178, 177, 176, 175, 174, 173, 172, 171, 170, 169, 168, 167, 166, 165, 164, 163, 162, 161, 160, 159, 158, 157, 156, 155, 154, 153, 152, 151, 150, 149, 148, 147, 146, 145, 144, 143, 142, 141, 140, 139, 138, 137, 136, 135, 134, 133, 132, 131, 130, 129, 128, 127, 126, 125, 124, 123, 122, 121, 120, 119, 118, 117, 116, 115, 114, 113, 112, 111, 110, 109, 108, 107, 106, 105, 104, 103, 102, 101, 100, 99, 98, 97, 96, 95, 94, 93, 92, 91, 90, 89, 88, 87, 86, 85, 84, 83, 82, 81, 80, 79, 78, 77, 76, 75, 74, 73, 72, 71, 70, 69, 68, 67, 66, 65, 64, 63, 62, 61, 60, 59, 58, 57, 56, 55, 54, 53, 52, 51, 50, 49, 48, 47, 46, 45, 44, 43, 42, 41, 40, 39, 38, 37, 36, 35, 34, 33, 32, 31, 30, 29, 28, 27, 26, 25, 24, 23, 22, 21, 20, 19, 18, 17, 16, 15, 14, 13, 12, 11, 10, 9, 8, 7, 6, 5, 4, 3, 2], \"y\": [0.02830406, 1.15066363, -0.66295207, 0.05161445, -0.34416968, -0.86698585, -0.4065612, 0.37151652, -0.19486776, 0.23282037, -0.77484431, -0.77376341, 0.27360899, -0.17856161, -1.06173576, -0.29998348, -0.34914673, -1.38387503, 0.6359472, 0.71045539, -0.30343270333333333, 0.4018832, -0.14555726, -1.54850355, 0.2945539, -2.61701914, 0.19330934, -0.71222565, 0.25270231, -0.15299748, -2.27143836, 0.01549028, 0.26504824, -0.38080494, -0.70124907, 0.76828882, 0.05249477000000001, -0.09730068, -0.38901841, 0.77512289, -0.19545196, -0.97724242, 0.4360888, 0.38720501, 0.121620055, -0.453516935, -0.40276161, 0.28374859, 1.99374185, 0.14362569333333333, 0.011457645000000016, -0.02659041, -0.47656353, -0.427367985, -0.48794635, 0.06550226, -0.25500562, 1.24955358, -1.6864182, -0.22768320500000006, -0.03098982, 4.91646047, 0.468493, -0.42940381, -0.5139367, -0.33487933, 0.5656716333333334, 0.45349809, -0.01800109, 0.17105874000000001, -0.15504529, -0.37382046, 1.62411153, 0.06249228, 0.63050086, -0.4673497, 0.00651518, -2.31881659, 0.31470737, -0.17119339, 2.44719553, 0.36616949, 0.23746711, -0.83600269, -2.0739314699999998, 0.11953177, 0.28585068, 2.71305478, -0.3079224, -0.09871426, -0.73733698, 0.04036441, -0.21392770500000002, -2.355507365, -0.15531868, 1.37991997, -1.06963128, 0.11904832399999998, 0.38975095, -0.570544905, 0.81152091, 0.21891384499999997, 0.209520325, 0.269466, 0.59303873, -0.13063142, -0.008236115000000002, -0.70814697, 0.04103268, -0.46555198, 0.42520765499999996, 0.16072163, -17.202074465, -0.52238181, 2.1389504799999997, -0.34235357, -0.03287037, 0.26526799, -2.98440081, -0.26405062500000004, -0.10782922333333333, -0.14236290999999995, -0.17573709, 0.47545559, -0.53258112, -0.26779715, 0.29972386333333334, -1.2940424099999999, 0.23622332, -1.04654465, 0.24208398, 0.27509811, -0.5660980675, -0.519462885, 0.17542868, 1.3673508550000002, 0.52725122, -0.66897332, -0.10805497, -0.62055476, -1.03026545, 0.22683685000000003, -0.8138581033333332, -0.46864611, 0.973505995, -0.48396086499999996, 0.77460016, -0.563029335, -0.09521613999999995, -0.94201813, -0.30764698, -2.4579650849999997, -0.14281328666666668, -1.20049488, 0.015050449999999993, 0.425826315, 0.52718999, 0.21261213333333337, -0.92797818, 0.258704045, -0.011402533999999997, -0.07000852000000002, 0.74938254, -0.17762604, -0.48450697, 0.79307722, -0.21447454, 0.14283561666666666, -0.505807015, 1.0692337466666666, 0.27401016, -1.15496647, -0.15510080999999998, -0.6959392799999999, -0.595841735, -0.4534879828571428, 0.21489394, -0.36881418, -0.257512375, 0.044219344999999965, -0.41089708, -0.31177377, -0.05003516, 1.2647566900000002, -0.02738261, 0.306016395, 1.36242235, -0.209353055, -0.83674885, -0.07443738, -3.49183707, 0.19069567666666667, -0.680498695, -0.17096511, 1.018329185, -1.22154251, -0.7080661950000001, 0.31499903, -2.415820975, -0.38477867, -0.7049591640000001, 0.9402619225, -0.03582573, 1.2831406674999999, 0.36742500666666666, 0.15452985, -0.35087729, -0.269511555, -0.5783520440000001, -0.05906134, -0.576662, -0.27427275, 0.404630745, -0.7110393150000001, -0.606749695, -0.02413458, 0.06510275999999998, -0.29100414, -0.10900537285714285, 0.056735165000000004, -0.60202158, -0.28058062500000003, -0.4259616574999999, -0.22529868, -0.49149196, -0.05796348, -0.13010941499999998, -0.39876836, -3.2239874050000004, -0.10256048, 0.288812285, -33.21928095, 0.15944862166666665, 0.4042702966666667, 0.15740484666666668, -0.84365395, -0.19227155333333334, -0.46561836, -0.183668926, -0.77090461, 0.56770842, -16.236329155, -0.13420503, -1.053996108, 0.16814751166666675, -0.07361566333333336, -0.38934157999999996, -0.66582864, -0.32009893, -0.39336755, 0.82789563, -0.05201076714285716, 0.20063987333333333, -0.069424415, 0.18978246666666665, -0.02064882, -0.5885557166666667, 0.137426895, -0.46915518, -0.04413218249999999, -0.3785479042857142, 0.11244308333333335, -1.572526225, -0.5423456125, 0.00133284, 0.16007314, 2.95080906, -0.003828903333333337, -0.7365116033333333, 0.26520960666666665, 0.30076463000000003, 0.6819635933333333, 0.056109622499999984, 0.011203359999999975, 0.4647928057142857, -0.171711098, -0.04342393555555556, -0.6458121325, 0.472284195, -0.506701018, -0.35276298500000003, -0.21002439500000006, -0.5051980975, 0.8558465900000001, -0.11141742, -0.29659114999999997, 0.1425756, -0.2593370428571428, 0.08421991399999999, -0.85922926, -0.19385829, -0.11257979750000002, 0.5834246833333334, -0.7304416816666667, -0.07979821666666664, -0.2376611683333333, 0.418570285, 0.02647526, -0.660970458, -0.677549865, -0.27963120666666663, -0.83715085, -0.01378095800000002, -1.1807854899999999, -0.08389195833333335, -0.703237925, 0.10003461999999999, 0.35567526000000005, -0.56482401, -0.6104070075, -0.8534113716666667, -0.12301586249999999, -0.6472326571428572, -0.6884496933333333, -1.8873547175, 0.17170503333333334, -1.0490666083333333, -0.23230515666666662, -1.944921845, -0.11655589666666666, -0.20333980000000001, -0.02954851285714286, 0.7072997333333334, -1.18991868, -0.47586282, 0.21409125333333334, 0.33092142166666666, -1.3162849200000002, 0.17876491000000003, -0.306994992, -2.064933207142857, -0.351045822, -0.1870211575, -0.17720436749999996, 0.027132917499999985, -0.12937922833333335, -1.4991336966666668, -0.18455011111111105, 0.8882076725, -0.12146122699999999, -0.3460788633333334, -0.3849860785714286, 0.2360301783333333, -0.8200610266666667, -0.599180945, -0.66523432, -0.336886304, 0.1995477500000001, -0.19687256250000001, 0.566524165, 0.07367112571428576, -0.01546021000000003, -0.09758792818181818, 0.030942241428571406, -0.40419495000000005, -0.19318417625, -0.06713763083333334, -0.25898914, 1.2718100499999998, -0.0655591057142857, 0.4459508714285714, 0.4850531742857144, -0.245285195, -0.300774955, -0.342484068, -0.03384008000000005, 0.22707358000000002, -0.08449854799999998, 0.018273548333333337, 0.2392710542857143, -0.8843997771428572, -0.6016482616666666, 0.28718465666666665, -0.76969619, 0.1531162375, -0.11826233416666666, -0.11083314428571425, -0.35980980125, -4.591001461428571, -0.03312468714285714, -0.17539553833333335, -0.132166475, -0.6344933427272728, 0.16251843571428573, -2.683153273, -0.653795474, 0.026186660000000028, 0.23337810833333336, -0.15351653111111108, 0.15710383777777778, -0.180375595, 0.09235089800000003, -0.10636339666666667, -0.35628414199999997, 0.35937186899999995, -0.462048195, -0.16414591125, -0.04902704999999993, -0.873193108888889, -0.05939712181818182, -0.254612505, -1.282779143, -0.8201491969999999, -2.846859442307692, -0.29213463, -0.18394183666666666, -0.17872557111111098, -0.19760609846153845, -0.5836831318181818, -0.03129298800000001, -0.23570717000000002, -0.025790991333333322, 0.4342829666666666, -0.34588853166666667, -0.7773526975, 0.02947152363636364, -0.5633368274999999, -0.32412762266666667, -0.7056172423076923, -0.543955546, 0.380303345, 0.016137592857142852, -1.2666495640000002, 0.8755026677777777, 0.12303130692307691, 0.008570083749999999, 0.04711874363636364, 0.22733891285714283, -0.01835876111111112, -3.5341215819999996, -0.20319557153846157, 0.15251500666666665, 0.060317700714285716, -3.121146135454545, -0.5105532923076923, -4.63176007875, -0.05173121333333333, -0.707434706, 0.149565368125, -0.7936639684615383, -1.194665154, 0.19679238235294122, -0.2376517466666667, -0.25429384624999996, 0.03872643800000001, -0.41426929875000007, -0.270802754, 0.20119315666666668, -0.3235215311111111, 0.015514664117647056, -0.38229078666666677, -0.23936693, -0.7854536592307692, -2.886136533333333, -0.27365595583333335, 0.14343377545454547, -0.3608140018181818, 0.11385710166666667, 0.2291775061538461, -0.10561100272727274, 0.12234778090909092, -0.30476623461538466, 0.011784770000000007, -0.27144354545454547, -0.36194728230769224, -0.544543578, -0.7603864080000002, -0.15292922500000003, -0.7456929723529412, -0.35772299444444444, 0.2433646286666667, 0.03980784500000001, -0.22156887615384607, 0.46732425312500003, -0.03758147733333334, -0.38010583722222224, -0.296248384347826, -0.7629784744444444, 0.07455965846153845, -0.4622114029411765, -0.3257811382352941, -4.122852322105263, -0.24924629200000006, -0.26597795999999996, -4.017914533, -0.43515605363636367, 0.08036659533333333, -0.19579085181818182, -0.10638736866666666, 0.22531858, -0.14923961875, -0.4218187368421053, -0.3538665982352941, -0.2377820631578947, -2.3259679994117652, -2.190318024375, -0.10170764444444441, 0.09806627705882352, -4.172389438124998, -0.15492662533333335, -0.38989027032258056, -0.412636465, 0.03657213600000002, -0.5900316876923077, -0.537852369, 0.15319019533333333, -0.5091498255, -0.14956252294117645, -2.0650880984210525, -0.3051065628571429, -0.18493619, -0.3013624064705883, 0.4352250047826086, -0.9040033311538461, -1.2741451993548387, -0.26333956272727277, 0.26889495500000005, -0.35380389687499997, -2.3760093661538457, 0.09860610173913045, 0.035429262592592554, -0.5342373709523809, -0.07891026350000002, -0.7006265541666666, -0.534693849375, 0.32044648227272726, -0.2205573304347826, -1.3862143923333337, -0.2703143813793104, -0.24795919500000005, -0.13121544190476195, -0.09054886149999998, -0.08951988210526307, -0.4228407588461538, -1.3214885695999998, -0.02680567375000003, -0.23618378642857146, 0.1387560633333333, 0.1843574466666667, -0.05976064874999994, -0.06629971000000001, -0.0828801124137931, -0.02957349794117648, -0.49375271551724137, -0.18054960391304348, -0.3276178251282051, -0.064910195, -0.4465811483333333, -0.29983558588235293, -1.5727968036666666, 0.023095925652173888, 0.04726234296296298, -0.04809291961538455, -2.0811849152631576, -0.5180632840625, -0.2564566240540541, 0.27369318852941177, -0.19126086735294118, -0.02367056899999998, -0.249555722173913, 0.01672942344827586, -0.6705922813043479, 0.3200673809375, -0.10651287925925935, -0.007364135000000009, -0.4441290560000001, -0.5892249113333334, -0.29606375222222214, -0.05976142516129034, 0.09216294189189189, -0.12519406433333333, -0.035060074285714275, -1.746674399230769, -0.22515853878048783, -0.027629427499999984, -1.1214008233333337, -1.1566104062499998, -0.3507732548, -1.3269396273529408, -0.3566154103333333, -0.11180781405405406, -0.4209122226923077, -0.6470484754285715, -0.1359580175, -0.9748161763157893, -0.47325722289473693, -2.1562115171875003, -0.15334776468749997, -0.38975690175, -0.4458955221739131, -0.21523539282051282, -1.878690336451613, -1.0670544545714284, 0.06449853586206894, -1.5811288725581398, -1.4142279899999999, -0.43772194999999997, -0.15299189510638297, -1.8702005164285715, -0.18301559309523815, 0.15468405166666668, -0.29051264727272735, -0.25834761787234045, -0.18302925862068964, -0.673116066875, -0.2096980326666667, -0.28866947719298247, -0.2067999071052632, -0.16478928619999997, -0.8909170738461537, -0.01605505458333333, -0.9954370724444445, -0.25727526822222224, -0.22659878342857143, 0.15617035282608696, 0.01123894190476187, -0.34782315526315793, 0.09888074550000002, -0.6077966415384617, -1.6742168666666664, 0.08234047424242423, -0.1980385023404255, -0.6389576193333334, -0.04890753063829784, 0.08122604466666668, -1.1221460327272728, -0.13433978458333332, -0.08844904999999999, 0.2587764236, -0.25701249018867917, -0.04498386431818181, 0.0037684845614035104, -0.807976837755102, -0.17484765060000004, -0.062191110731707355, -0.05997460178571427, -0.34644626487804875, -0.21730017357142847, -0.7026050193220339, -0.23376421087719293, -0.016290901320754725, -0.7289009407272729, 0.040258601355932185, -0.2754601471428571, -0.1290288690740741, -0.09376807764705883, -0.40386154338983044, 0.04139840779999998, -0.23522489561403498, -0.2983044447826087, 0.06409736727272729, -0.09208819678571425, -0.3486895228358209, 0.05147646440677962, 0.0390916317910448, -0.12416771867924531, -0.3257433949315067, -0.4341213208474576, -0.060416351746031785, -0.06047645540983612, -1.6728991707462686, -1.0135001717460315, -0.46148013921874986, -0.2143206046428571, -0.13309931042253517, -0.684344892686567, -0.24710134985915477, -0.13867775971428575, -0.20905931955882354, -0.7469718384057973, -0.22503470170731704, -0.011779109375000046, -0.11402489901639347, -0.9128261053246748, -0.43662621471264373, -0.04219892692307691, -0.2150612289552239, -0.77467708125, 0.2646752439189189, -0.2534944766666667, -0.089960262987013, 0.02960550895522388, -0.1043575380645161, -0.6060867785882353, -0.595019223678161, -0.43578645079545447, -0.6631588670731706, -0.11842583149532714, -0.7543356007446812, -0.18693925195652175, -0.19450721288659786, -0.4818625720270271, -0.1536969893617021, -0.2222531868831169, -0.5563736144943822, -0.8019297555172418, -0.04494549288288293, -0.12512245422222235, -0.30181280849462355, -0.17273139155844158, -0.3780157524528302, -0.21924344931818185, -0.4803957365882353, -0.14299328411111106, 0.006202169125000015, -0.06932008176470586, -0.8321326815909095, -0.8110515420560749, -0.26022617646464635, -0.6170635592500002, -0.2984062892156863, -0.22486730494382018, -0.47822860000000017, -0.6062528580898876, -0.8517954796739132, -0.8054005088659794, -0.19279849268518523, -0.21887500776595734, -0.17984206644859818, -1.190621770792079, -0.230116839047619, -0.1410255240566039, -0.6663859853571428, -0.36908757090909095, -0.3981648105468749, -0.5317203161983471, -0.19645772913043477, -0.7193535972566374, -0.3053417207476634, -0.4633147605645161, -1.1724919430827068, -1.0201912401470583, -0.45355009028301885, -1.0094768391666664, -0.4418354597560975, -0.46860849007092203, -0.6265894570833329, -0.35799605607999985, -0.47637934102941176, -0.7767832320967741, -0.5453909961594203, -0.2743307842537312, -0.5350291504761906, -0.3339060346874999, -0.6552450803100774, -0.4164544257258063, -0.7923171007936507, -0.07250562679012351, -0.7985809800787401, -0.5783662438167939, -0.047826452468354444, -0.24724159687074826, -0.4265686405161291, -0.5896488330612242, -0.557043749769231, -0.1073252307936508, -0.3813995937106915, -0.4571399059027777, -0.21762678363636348, -0.3161325967032967, -0.49821037682634756, -0.3849918457333334, -0.3279522976729558, -0.4856869852046784, -0.9258231213407817, -0.38071858078651666, -0.6952679099999997, -1.1775821809195397, -0.8339312529213483, -0.7760765818823534, -0.42824149224719105, -0.7333937186702131, -0.31721599060240974, -0.24700073942196527, -0.38859424047945235, -0.3929141411940298, -0.5583375652173914, -0.4923615170238095, -0.4497581051807228, -1.0813916122282605, -0.43050007284946235, -0.24928975461139902, -0.9648376264651164, -0.9101395746696037, -0.06975284432835821, -0.22865362751111093, -0.22196684449760767, -0.27978248882978735, -0.48512042405857725, -0.47712367330396477, -0.3324844870535716, -0.3685967934703195, -1.0914305665354336, -0.6295235068325788, -0.5959178888888883, -0.3286440395670994, -0.6835910795964122, -0.31034322824, -0.7089981038799998, -0.3064614193360996, -0.4572900607024791, -0.3903528432618024, -0.6616624875390622, -0.8108368281632652, -0.13676781875000005, -0.1982714766283526, -0.30624690496240625, -0.6888273522614842, -0.5269692720344831, -0.30660963290540516, -0.32256766559701494, -0.6449374895357144, -0.7713685681338026, -0.4837040447388059, -0.35307408996466444, -0.5667109327397263, -0.37022978301003334, -0.7010816767592594, -0.78430950109215, -0.3375050140963856, -0.4868673081210191, -0.20672425801242245, -0.40697393496913564, -0.7914621700940443, -0.35719922006230537, -0.7065269447647059, -0.6801577607260726, -0.4934795054573169, -0.5538320623511904, -0.4335955316816813, -0.41905153524064176, -0.3270263227195466, -0.26557594109589033, -0.6190856939240504, -0.4457263124146978, -0.28908509855670095, -0.5924760730922695, -0.3854205580622006, -0.674582609090909, -0.30527944670241286, -0.5284692320936645, -0.32739260897560984, -0.32083129347931877, -0.8548724002803741, -0.6501903378708133, -0.6968725582261641, -0.4953134365161287, -0.3090932037558683, -0.9254697994945051, -0.4943303332071711, -0.791821820251046, -0.34157310114285716, -0.25559804916488227, -0.640230312624999, -0.49567761878048766, -0.3784412971026158, -0.2593302387615526, -0.47768552138888903, -0.10490996622137402, -0.6733125369202902, -0.5697613518592058, -0.4402172997486535, -0.6548904835883425, -0.28135375406749547, -0.3862378997391302, -0.3765601847619045, -0.6385463229752071, -0.47752028659432383, -0.46932631385259693, -0.5014100093069314, -0.7041685562358642, -0.4698735887692308, -0.9134680666719487, -0.4401244627477474, -0.7317997372398194, -0.3502307025806451, -0.44646153186646403, -0.7372360821045193, -0.36312329349162015, -0.4370622337700144, -0.43939125405099116, -0.6204018914597543, -0.7492668440949929, -0.7133417435422, -0.41419851606340796, -0.43204334717647064, -0.6462069807338313, -0.6823805752853599, -0.662781443786407, -0.3773307235599076, -0.5779256067597094, -0.3628466450337085, -0.43829394254608256, -0.5055813215092293, -0.7240794005748385, -0.5577945037590362, -0.5212573194376274, -0.4590787187055011, -0.6523090479212907, -0.4472711107470647, -0.6528376334705879, -0.7049327485883515, -0.5186146898065175, -0.629312548070176, -0.6994189548014773, -0.6004629905062087, -0.21471303570772018, -0.48487278487935664, -0.5132361910446495, -0.5392545469308598, -0.4694558643999991, -0.3965319760325202, -0.4352179293729381, -0.4569107076841249, -0.6395603724883361, -0.5956576326169712, -0.2756441077531648, -0.5913738052264007, -0.4247234338964988, -0.3624902681666662, -0.30997141910818704, -0.4130897576238333, -0.45485215350730734, -0.48764942907713527, -0.47450247133159246, -0.47084151488888853, -0.3989726393171367, -0.4165583880863035, -0.39154595982535534, -0.29257007994089895, -0.3366861304910988, -0.3731995679758307, -0.4054647264093571, -0.29710518846820755, -0.3873219315974623, -0.3414264699511132, -0.5362445766485608, -0.5213411421334738, -0.3325787556656019, -0.27876757668212226, -0.3714693623038482, -0.3925499220944956, -0.3495900991964722, -0.4547011316521743, -0.3619403609623428, -0.5050959131643191, -0.2481142595004344, -0.4185033736911231, -0.18926128687974933, -0.29118583031786904, -0.3818457781638043, -0.2593886025734978, -0.2820031055766054, -0.3127647946166076, -0.34630385606907205, -0.23255744457142838, -0.2394020986936415, -0.2644045209304208, -0.22075631395339473, -0.22213860573628902, -0.24599907689408979, -0.2004722893618709, -0.1051667375132708, -0.32118609798076875, -0.0320452188205828, -0.11481482409986256, -0.03740862530645163, 0.02472058041617819, 0.12138051838194433, 0.2259220494961246, 0.1689635809266943, 0.14051706400630914, -0.30301999764705884]}],\n",
       "                        {\"template\": {\"data\": {\"bar\": [{\"error_x\": {\"color\": \"#2a3f5f\"}, \"error_y\": {\"color\": \"#2a3f5f\"}, \"marker\": {\"line\": {\"color\": \"#E5ECF6\", \"width\": 0.5}}, \"type\": \"bar\"}], \"barpolar\": [{\"marker\": {\"line\": {\"color\": \"#E5ECF6\", \"width\": 0.5}}, \"type\": \"barpolar\"}], \"carpet\": [{\"aaxis\": {\"endlinecolor\": \"#2a3f5f\", \"gridcolor\": \"white\", \"linecolor\": \"white\", \"minorgridcolor\": \"white\", \"startlinecolor\": \"#2a3f5f\"}, \"baxis\": {\"endlinecolor\": \"#2a3f5f\", \"gridcolor\": \"white\", \"linecolor\": \"white\", \"minorgridcolor\": \"white\", \"startlinecolor\": \"#2a3f5f\"}, \"type\": \"carpet\"}], \"choropleth\": [{\"colorbar\": {\"outlinewidth\": 0, \"ticks\": \"\"}, \"type\": \"choropleth\"}], \"contour\": [{\"colorbar\": {\"outlinewidth\": 0, \"ticks\": \"\"}, \"colorscale\": [[0.0, \"#0d0887\"], [0.1111111111111111, \"#46039f\"], [0.2222222222222222, \"#7201a8\"], [0.3333333333333333, \"#9c179e\"], [0.4444444444444444, \"#bd3786\"], [0.5555555555555556, \"#d8576b\"], [0.6666666666666666, \"#ed7953\"], [0.7777777777777778, \"#fb9f3a\"], [0.8888888888888888, \"#fdca26\"], [1.0, \"#f0f921\"]], \"type\": \"contour\"}], \"contourcarpet\": [{\"colorbar\": {\"outlinewidth\": 0, \"ticks\": \"\"}, \"type\": \"contourcarpet\"}], \"heatmap\": [{\"colorbar\": {\"outlinewidth\": 0, \"ticks\": \"\"}, \"colorscale\": [[0.0, \"#0d0887\"], [0.1111111111111111, \"#46039f\"], [0.2222222222222222, \"#7201a8\"], [0.3333333333333333, \"#9c179e\"], [0.4444444444444444, \"#bd3786\"], [0.5555555555555556, \"#d8576b\"], [0.6666666666666666, \"#ed7953\"], [0.7777777777777778, \"#fb9f3a\"], [0.8888888888888888, \"#fdca26\"], [1.0, \"#f0f921\"]], \"type\": \"heatmap\"}], \"heatmapgl\": [{\"colorbar\": {\"outlinewidth\": 0, \"ticks\": \"\"}, \"colorscale\": [[0.0, \"#0d0887\"], [0.1111111111111111, \"#46039f\"], [0.2222222222222222, \"#7201a8\"], [0.3333333333333333, \"#9c179e\"], [0.4444444444444444, \"#bd3786\"], [0.5555555555555556, \"#d8576b\"], [0.6666666666666666, \"#ed7953\"], [0.7777777777777778, \"#fb9f3a\"], [0.8888888888888888, \"#fdca26\"], [1.0, \"#f0f921\"]], \"type\": \"heatmapgl\"}], \"histogram\": [{\"marker\": {\"colorbar\": {\"outlinewidth\": 0, \"ticks\": \"\"}}, \"type\": \"histogram\"}], \"histogram2d\": [{\"colorbar\": {\"outlinewidth\": 0, \"ticks\": \"\"}, \"colorscale\": [[0.0, \"#0d0887\"], [0.1111111111111111, \"#46039f\"], [0.2222222222222222, \"#7201a8\"], [0.3333333333333333, \"#9c179e\"], [0.4444444444444444, \"#bd3786\"], [0.5555555555555556, \"#d8576b\"], [0.6666666666666666, \"#ed7953\"], [0.7777777777777778, \"#fb9f3a\"], [0.8888888888888888, \"#fdca26\"], [1.0, \"#f0f921\"]], \"type\": \"histogram2d\"}], \"histogram2dcontour\": [{\"colorbar\": {\"outlinewidth\": 0, \"ticks\": \"\"}, \"colorscale\": [[0.0, \"#0d0887\"], [0.1111111111111111, \"#46039f\"], [0.2222222222222222, \"#7201a8\"], [0.3333333333333333, \"#9c179e\"], [0.4444444444444444, \"#bd3786\"], [0.5555555555555556, \"#d8576b\"], [0.6666666666666666, \"#ed7953\"], [0.7777777777777778, \"#fb9f3a\"], [0.8888888888888888, \"#fdca26\"], [1.0, \"#f0f921\"]], \"type\": \"histogram2dcontour\"}], \"mesh3d\": [{\"colorbar\": {\"outlinewidth\": 0, \"ticks\": \"\"}, \"type\": \"mesh3d\"}], \"parcoords\": [{\"line\": {\"colorbar\": {\"outlinewidth\": 0, \"ticks\": \"\"}}, \"type\": \"parcoords\"}], \"pie\": [{\"automargin\": true, \"type\": \"pie\"}], \"scatter\": [{\"marker\": {\"colorbar\": {\"outlinewidth\": 0, \"ticks\": \"\"}}, \"type\": \"scatter\"}], \"scatter3d\": [{\"line\": {\"colorbar\": {\"outlinewidth\": 0, \"ticks\": \"\"}}, \"marker\": {\"colorbar\": {\"outlinewidth\": 0, \"ticks\": \"\"}}, \"type\": \"scatter3d\"}], \"scattercarpet\": [{\"marker\": {\"colorbar\": {\"outlinewidth\": 0, \"ticks\": \"\"}}, \"type\": \"scattercarpet\"}], \"scattergeo\": [{\"marker\": {\"colorbar\": {\"outlinewidth\": 0, \"ticks\": \"\"}}, \"type\": \"scattergeo\"}], \"scattergl\": [{\"marker\": {\"colorbar\": {\"outlinewidth\": 0, \"ticks\": \"\"}}, \"type\": \"scattergl\"}], \"scattermapbox\": [{\"marker\": {\"colorbar\": {\"outlinewidth\": 0, \"ticks\": \"\"}}, \"type\": \"scattermapbox\"}], \"scatterpolar\": [{\"marker\": {\"colorbar\": {\"outlinewidth\": 0, \"ticks\": \"\"}}, \"type\": \"scatterpolar\"}], \"scatterpolargl\": [{\"marker\": {\"colorbar\": {\"outlinewidth\": 0, \"ticks\": \"\"}}, \"type\": \"scatterpolargl\"}], \"scatterternary\": [{\"marker\": {\"colorbar\": {\"outlinewidth\": 0, \"ticks\": \"\"}}, \"type\": \"scatterternary\"}], \"surface\": [{\"colorbar\": {\"outlinewidth\": 0, \"ticks\": \"\"}, \"colorscale\": [[0.0, \"#0d0887\"], [0.1111111111111111, \"#46039f\"], [0.2222222222222222, \"#7201a8\"], [0.3333333333333333, \"#9c179e\"], [0.4444444444444444, \"#bd3786\"], [0.5555555555555556, \"#d8576b\"], [0.6666666666666666, \"#ed7953\"], [0.7777777777777778, \"#fb9f3a\"], [0.8888888888888888, \"#fdca26\"], [1.0, \"#f0f921\"]], \"type\": \"surface\"}], \"table\": [{\"cells\": {\"fill\": {\"color\": \"#EBF0F8\"}, \"line\": {\"color\": \"white\"}}, \"header\": {\"fill\": {\"color\": \"#C8D4E3\"}, \"line\": {\"color\": \"white\"}}, \"type\": \"table\"}]}, \"layout\": {\"annotationdefaults\": {\"arrowcolor\": \"#2a3f5f\", \"arrowhead\": 0, \"arrowwidth\": 1}, \"coloraxis\": {\"colorbar\": {\"outlinewidth\": 0, \"ticks\": \"\"}}, \"colorscale\": {\"diverging\": [[0, \"#8e0152\"], [0.1, \"#c51b7d\"], [0.2, \"#de77ae\"], [0.3, \"#f1b6da\"], [0.4, \"#fde0ef\"], [0.5, \"#f7f7f7\"], [0.6, \"#e6f5d0\"], [0.7, \"#b8e186\"], [0.8, \"#7fbc41\"], [0.9, \"#4d9221\"], [1, \"#276419\"]], \"sequential\": [[0.0, \"#0d0887\"], [0.1111111111111111, \"#46039f\"], [0.2222222222222222, \"#7201a8\"], [0.3333333333333333, \"#9c179e\"], [0.4444444444444444, \"#bd3786\"], [0.5555555555555556, \"#d8576b\"], [0.6666666666666666, \"#ed7953\"], [0.7777777777777778, \"#fb9f3a\"], [0.8888888888888888, \"#fdca26\"], [1.0, \"#f0f921\"]], \"sequentialminus\": [[0.0, \"#0d0887\"], [0.1111111111111111, \"#46039f\"], [0.2222222222222222, \"#7201a8\"], [0.3333333333333333, \"#9c179e\"], [0.4444444444444444, \"#bd3786\"], [0.5555555555555556, \"#d8576b\"], [0.6666666666666666, \"#ed7953\"], [0.7777777777777778, \"#fb9f3a\"], [0.8888888888888888, \"#fdca26\"], [1.0, \"#f0f921\"]]}, \"colorway\": [\"#636efa\", \"#EF553B\", \"#00cc96\", \"#ab63fa\", \"#FFA15A\", \"#19d3f3\", \"#FF6692\", \"#B6E880\", \"#FF97FF\", \"#FECB52\"], \"font\": {\"color\": \"#2a3f5f\"}, \"geo\": {\"bgcolor\": \"white\", \"lakecolor\": \"white\", \"landcolor\": \"#E5ECF6\", \"showlakes\": true, \"showland\": true, \"subunitcolor\": \"white\"}, \"hoverlabel\": {\"align\": \"left\"}, \"hovermode\": \"closest\", \"mapbox\": {\"style\": \"light\"}, \"paper_bgcolor\": \"white\", \"plot_bgcolor\": \"#E5ECF6\", \"polar\": {\"angularaxis\": {\"gridcolor\": \"white\", \"linecolor\": \"white\", \"ticks\": \"\"}, \"bgcolor\": \"#E5ECF6\", \"radialaxis\": {\"gridcolor\": \"white\", \"linecolor\": \"white\", \"ticks\": \"\"}}, \"scene\": {\"xaxis\": {\"backgroundcolor\": \"#E5ECF6\", \"gridcolor\": \"white\", \"gridwidth\": 2, \"linecolor\": \"white\", \"showbackground\": true, \"ticks\": \"\", \"zerolinecolor\": \"white\"}, \"yaxis\": {\"backgroundcolor\": \"#E5ECF6\", \"gridcolor\": \"white\", \"gridwidth\": 2, \"linecolor\": \"white\", \"showbackground\": true, \"ticks\": \"\", \"zerolinecolor\": \"white\"}, \"zaxis\": {\"backgroundcolor\": \"#E5ECF6\", \"gridcolor\": \"white\", \"gridwidth\": 2, \"linecolor\": \"white\", \"showbackground\": true, \"ticks\": \"\", \"zerolinecolor\": \"white\"}}, \"shapedefaults\": {\"line\": {\"color\": \"#2a3f5f\"}}, \"ternary\": {\"aaxis\": {\"gridcolor\": \"white\", \"linecolor\": \"white\", \"ticks\": \"\"}, \"baxis\": {\"gridcolor\": \"white\", \"linecolor\": \"white\", \"ticks\": \"\"}, \"bgcolor\": \"#E5ECF6\", \"caxis\": {\"gridcolor\": \"white\", \"linecolor\": \"white\", \"ticks\": \"\"}}, \"title\": {\"x\": 0.05}, \"xaxis\": {\"automargin\": true, \"gridcolor\": \"white\", \"linecolor\": \"white\", \"ticks\": \"\", \"title\": {\"standoff\": 15}, \"zerolinecolor\": \"white\", \"zerolinewidth\": 2}, \"yaxis\": {\"automargin\": true, \"gridcolor\": \"white\", \"linecolor\": \"white\", \"ticks\": \"\", \"title\": {\"standoff\": 15}, \"zerolinecolor\": \"white\", \"zerolinewidth\": 2}}}, \"title\": {\"text\": \"Loyalty score by Number of historical transactions\"}},\n",
       "                        {\"responsive\": true}\n",
       "                    ).then(function(){\n",
       "                            \n",
       "var gd = document.getElementById('2dcaea25-5bdc-4c42-a76e-519f12d7f018');\n",
       "var x = new MutationObserver(function (mutations, observer) {{\n",
       "        var display = window.getComputedStyle(gd).display;\n",
       "        if (!display || display === 'none') {{\n",
       "            console.log([gd, 'removed!']);\n",
       "            Plotly.purge(gd);\n",
       "            observer.disconnect();\n",
       "        }}\n",
       "}});\n",
       "\n",
       "// Listen for the removal of the full notebook cells\n",
       "var notebookContainer = gd.closest('#notebook-container');\n",
       "if (notebookContainer) {{\n",
       "    x.observe(notebookContainer, {childList: true});\n",
       "}}\n",
       "\n",
       "// Listen for the clearing of the current output cell\n",
       "var outputEl = gd.closest('.output');\n",
       "if (outputEl) {{\n",
       "    x.observe(outputEl, {childList: true});\n",
       "}}\n",
       "\n",
       "                        })\n",
       "                };\n",
       "                });\n",
       "            </script>\n",
       "        </div>"
      ]
     },
     "metadata": {},
     "output_type": "display_data"
    }
   ],
   "source": [
    "cnt_srs = train_df.groupby(\"num_hist_transactions\")[target_col].mean()\n",
    "cnt_srs = cnt_srs.sort_index()\n",
    "cnt_srs = cnt_srs[:-50]\n",
    "\n",
    "def scatter_plot(cnt_srs, color):\n",
    "    trace = go.Scatter(\n",
    "        x=cnt_srs.index[::-1],\n",
    "        y=cnt_srs.values[::-1],\n",
    "        showlegend=False,\n",
    "        marker=dict(\n",
    "            color=color,\n",
    "        ),\n",
    "    )\n",
    "    return trace\n",
    "\n",
    "trace = scatter_plot(cnt_srs, \"orange\")\n",
    "layout = dict(\n",
    "    title='Loyalty score by Number of historical transactions',\n",
    "    )\n",
    "data = [trace]\n",
    "fig = go.Figure(data=data, layout=layout)\n",
    "py.iplot(fig, filename=\"Histtranscnt\")"
   ]
  },
  {
   "cell_type": "markdown",
   "metadata": {
    "_uuid": "41fe55f2834824cf44578cec42c81e840e4ba64f"
   },
   "source": [
    "Now let us bin the count of historical transactions and then do some box plots to see the plots better."
   ]
  },
  {
   "cell_type": "code",
   "execution_count": 24,
   "metadata": {
    "_kg_hide-input": true,
    "_uuid": "068b1339422f063cb0daaf7649bd96c4eba00fb9",
    "scrolled": true
   },
   "outputs": [
    {
     "data": {
      "image/png": "[encoded data removed]",
      "text/plain": [
       "<Figure size 864x576 with 1 Axes>"
      ]
     },
     "metadata": {
      "needs_background": "light"
     },
     "output_type": "display_data"
    }
   ],
   "source": [
    "bins = [0, 10, 20, 30, 40, 50, 75, 100, 150, 200, 500, 10000]\n",
    "train_df['binned_num_hist_transactions'] = pd.cut(train_df['num_hist_transactions'], bins)\n",
    "cnt_srs = train_df.groupby(\"binned_num_hist_transactions\")[target_col].mean()\n",
    "\n",
    "plt.figure(figsize=(12,8))\n",
    "sns.boxplot(x=\"binned_num_hist_transactions\", y=target_col, data=train_df, showfliers=False)\n",
    "plt.xticks(rotation='vertical')\n",
    "plt.xlabel('binned_num_hist_transactions', fontsize=12)\n",
    "plt.ylabel('Loyalty score', fontsize=12)\n",
    "plt.title(\"binned_num_hist_transactions distribution\")\n",
    "plt.show()"
   ]
  },
  {
   "cell_type": "markdown",
   "metadata": {
    "_uuid": "172321f1785060cc9aab7e8d8aeab884f6aea9fd"
   },
   "source": [
    "#### Value of Historical Transactions\n",
    "\n",
    "Now let us check the value of the historical transactions for the cards and check the loyalty score distribution based on that."
   ]
  },
  {
   "cell_type": "code",
   "execution_count": 25,
   "metadata": {
    "_kg_hide-input": true,
    "_uuid": "216d9ff997e3cafaf1be538f5a7227eabc6fa9af"
   },
   "outputs": [],
   "source": [
    "gdf = hist_df.groupby(\"card_id\")\n",
    "gdf = gdf[\"purchase_amount\"].agg(['sum', 'mean', 'std', 'min', 'max']).reset_index()\n",
    "gdf.columns = [\"card_id\", \"sum_hist_trans\", \"mean_hist_trans\", \"std_hist_trans\", \"min_hist_trans\", \"max_hist_trans\"]\n",
    "train_df = pd.merge(train_df, gdf, on=\"card_id\", how=\"left\")\n",
    "test_df = pd.merge(test_df, gdf, on=\"card_id\", how=\"left\")"
   ]
  },
  {
   "cell_type": "code",
   "execution_count": 26,
   "metadata": {
    "_kg_hide-input": true,
    "_uuid": "7da6b4337b8f8f10bab70175b2031561d0fcc111"
   },
   "outputs": [
    {
     "data": {
      "image/png": "[encoded data removed]",
      "text/plain": [
       "<Figure size 864x576 with 1 Axes>"
      ]
     },
     "metadata": {
      "needs_background": "light"
     },
     "output_type": "display_data"
    }
   ],
   "source": [
    "bins = np.percentile(train_df[\"sum_hist_trans\"], range(0,101,10))\n",
    "train_df['binned_sum_hist_trans'] = pd.cut(train_df['sum_hist_trans'], bins)\n",
    "#cnt_srs = train_df.groupby(\"binned_sum_hist_trans\")[target_col].mean()\n",
    "\n",
    "plt.figure(figsize=(12,8))\n",
    "sns.boxplot(x=\"binned_sum_hist_trans\", y=target_col, data=train_df, showfliers=False)\n",
    "plt.xticks(rotation='vertical')\n",
    "plt.xlabel('binned_sum_hist_trans', fontsize=12)\n",
    "plt.ylabel('Loyalty score', fontsize=12)\n",
    "plt.title(\"Sum of historical transaction value (Binned) distribution\")\n",
    "plt.show()"
   ]
  },
  {
   "cell_type": "markdown",
   "metadata": {
    "_uuid": "631c654233d8a277047dd4c9c70ef1e3373d2f56"
   },
   "source": [
    "The loyalty score increase with the \"sum of historical transaction value\" as expected. Now let's do the same plot with \"Mean value of historical transaction\"."
   ]
  },
  {
   "cell_type": "code",
   "execution_count": 27,
   "metadata": {
    "_kg_hide-input": true,
    "_uuid": "816c04fd10019149fe1fd6f20e06f2a22a29ff87"
   },
   "outputs": [
    {
     "data": {
      "image/png": "[encoded data removed]",
      "text/plain": [
       "<Figure size 864x576 with 1 Axes>"
      ]
     },
     "metadata": {
      "needs_background": "light"
     },
     "output_type": "display_data"
    }
   ],
   "source": [
    "bins = np.percentile(train_df[\"mean_hist_trans\"], range(0,101,10))\n",
    "train_df['binned_mean_hist_trans'] = pd.cut(train_df['mean_hist_trans'], bins)\n",
    "#cnt_srs = train_df.groupby(\"binned_mean_hist_trans\")[target_col].mean()\n",
    "\n",
    "plt.figure(figsize=(12,8))\n",
    "sns.boxplot(x=\"binned_mean_hist_trans\", y=target_col, data=train_df, showfliers=False)\n",
    "plt.xticks(rotation='vertical')\n",
    "plt.xlabel('Binned Mean Historical Transactions', fontsize=12)\n",
    "plt.ylabel('Loyalty score', fontsize=12)\n",
    "plt.title(\"Mean of historical transaction value (Binned) distribution\")\n",
    "plt.show()"
   ]
  },
  {
   "cell_type": "markdown",
   "metadata": {
    "_uuid": "80d9a378203a3cfc75a7a189c66ada9478a6d67e"
   },
   "source": [
    "### New Merchant Transactions\n",
    "\n",
    "In this section, let us look at the new merchant transactions data and do some analysis"
   ]
  },
  {
   "cell_type": "code",
   "execution_count": 28,
   "metadata": {
    "_uuid": "191aed6554c8698d5a0a4b782fe1ed4e5a306a8a"
   },
   "outputs": [
    {
     "data": {
      "text/html": [
       "<div>\n",
       "<style scoped>\n",
       "    .dataframe tbody tr th:only-of-type {\n",
       "        vertical-align: middle;\n",
       "    }\n",
       "\n",
       "    .dataframe tbody tr th {\n",
       "        vertical-align: top;\n",
       "    }\n",
       "\n",
       "    .dataframe thead th {\n",
       "        text-align: right;\n",
       "    }\n",
       "</style>\n",
       "<table border=\"1\" class=\"dataframe\">\n",
       "  <thead>\n",
       "    <tr style=\"text-align: right;\">\n",
       "      <th></th>\n",
       "      <th>authorized_flag</th>\n",
       "      <th>card_id</th>\n",
       "      <th>city_id</th>\n",
       "      <th>category_1</th>\n",
       "      <th>installments</th>\n",
       "      <th>category_3</th>\n",
       "      <th>merchant_category_id</th>\n",
       "      <th>merchant_id</th>\n",
       "      <th>month_lag</th>\n",
       "      <th>purchase_amount</th>\n",
       "      <th>purchase_date</th>\n",
       "      <th>category_2</th>\n",
       "      <th>state_id</th>\n",
       "      <th>subsector_id</th>\n",
       "    </tr>\n",
       "  </thead>\n",
       "  <tbody>\n",
       "    <tr>\n",
       "      <td>0</td>\n",
       "      <td>Y</td>\n",
       "      <td>C_ID_415bb3a509</td>\n",
       "      <td>107</td>\n",
       "      <td>N</td>\n",
       "      <td>1</td>\n",
       "      <td>B</td>\n",
       "      <td>307</td>\n",
       "      <td>M_ID_b0c793002c</td>\n",
       "      <td>1</td>\n",
       "      <td>-0.557574</td>\n",
       "      <td>2018-03-11 14:57:36</td>\n",
       "      <td>1.0</td>\n",
       "      <td>9</td>\n",
       "      <td>19</td>\n",
       "    </tr>\n",
       "    <tr>\n",
       "      <td>1</td>\n",
       "      <td>Y</td>\n",
       "      <td>C_ID_415bb3a509</td>\n",
       "      <td>140</td>\n",
       "      <td>N</td>\n",
       "      <td>1</td>\n",
       "      <td>B</td>\n",
       "      <td>307</td>\n",
       "      <td>M_ID_88920c89e8</td>\n",
       "      <td>1</td>\n",
       "      <td>-0.569580</td>\n",
       "      <td>2018-03-19 18:53:37</td>\n",
       "      <td>1.0</td>\n",
       "      <td>9</td>\n",
       "      <td>19</td>\n",
       "    </tr>\n",
       "    <tr>\n",
       "      <td>2</td>\n",
       "      <td>Y</td>\n",
       "      <td>C_ID_415bb3a509</td>\n",
       "      <td>330</td>\n",
       "      <td>N</td>\n",
       "      <td>1</td>\n",
       "      <td>B</td>\n",
       "      <td>507</td>\n",
       "      <td>M_ID_ad5237ef6b</td>\n",
       "      <td>2</td>\n",
       "      <td>-0.551037</td>\n",
       "      <td>2018-04-26 14:08:44</td>\n",
       "      <td>1.0</td>\n",
       "      <td>9</td>\n",
       "      <td>14</td>\n",
       "    </tr>\n",
       "    <tr>\n",
       "      <td>3</td>\n",
       "      <td>Y</td>\n",
       "      <td>C_ID_415bb3a509</td>\n",
       "      <td>-1</td>\n",
       "      <td>Y</td>\n",
       "      <td>1</td>\n",
       "      <td>B</td>\n",
       "      <td>661</td>\n",
       "      <td>M_ID_9e84cda3b1</td>\n",
       "      <td>1</td>\n",
       "      <td>-0.671925</td>\n",
       "      <td>2018-03-07 09:43:21</td>\n",
       "      <td>NaN</td>\n",
       "      <td>-1</td>\n",
       "      <td>8</td>\n",
       "    </tr>\n",
       "    <tr>\n",
       "      <td>4</td>\n",
       "      <td>Y</td>\n",
       "      <td>C_ID_ef55cf8d4b</td>\n",
       "      <td>-1</td>\n",
       "      <td>Y</td>\n",
       "      <td>1</td>\n",
       "      <td>B</td>\n",
       "      <td>166</td>\n",
       "      <td>M_ID_3c86fa3831</td>\n",
       "      <td>1</td>\n",
       "      <td>-0.659904</td>\n",
       "      <td>2018-03-22 21:07:53</td>\n",
       "      <td>NaN</td>\n",
       "      <td>-1</td>\n",
       "      <td>29</td>\n",
       "    </tr>\n",
       "  </tbody>\n",
       "</table>\n",
       "</div>"
      ],
      "text/plain": [
       "  authorized_flag          card_id  city_id category_1  installments  \\\n",
       "0               Y  C_ID_415bb3a509      107          N             1   \n",
       "1               Y  C_ID_415bb3a509      140          N             1   \n",
       "2               Y  C_ID_415bb3a509      330          N             1   \n",
       "3               Y  C_ID_415bb3a509       -1          Y             1   \n",
       "4               Y  C_ID_ef55cf8d4b       -1          Y             1   \n",
       "\n",
       "  category_3  merchant_category_id      merchant_id  month_lag  \\\n",
       "0          B                   307  M_ID_b0c793002c          1   \n",
       "1          B                   307  M_ID_88920c89e8          1   \n",
       "2          B                   507  M_ID_ad5237ef6b          2   \n",
       "3          B                   661  M_ID_9e84cda3b1          1   \n",
       "4          B                   166  M_ID_3c86fa3831          1   \n",
       "\n",
       "   purchase_amount        purchase_date  category_2  state_id  subsector_id  \n",
       "0        -0.557574  2018-03-11 14:57:36         1.0         9            19  \n",
       "1        -0.569580  2018-03-19 18:53:37         1.0         9            19  \n",
       "2        -0.551037  2018-04-26 14:08:44         1.0         9            14  \n",
       "3        -0.671925  2018-03-07 09:43:21         NaN        -1             8  \n",
       "4        -0.659904  2018-03-22 21:07:53         NaN        -1            29  "
      ]
     },
     "execution_count": 28,
     "metadata": {},
     "output_type": "execute_result"
    }
   ],
   "source": [
    "new_trans_df = pd.read_csv(\"input/new_merchant_transactions.csv\")\n",
    "new_trans_df.head()"
   ]
  },
  {
   "cell_type": "code",
   "execution_count": 29,
   "metadata": {
    "_kg_hide-input": true,
    "_uuid": "e2c425d22c6100926bf1ca200271e80a4c86ec34"
   },
   "outputs": [],
   "source": [
    "gdf = new_trans_df.groupby(\"card_id\")\n",
    "gdf = gdf[\"purchase_amount\"].size().reset_index()\n",
    "gdf.columns = [\"card_id\", \"num_merch_transactions\"]\n",
    "train_df = pd.merge(train_df, gdf, on=\"card_id\", how=\"left\")\n",
    "test_df = pd.merge(test_df, gdf, on=\"card_id\", how=\"left\")"
   ]
  },
  {
   "cell_type": "code",
   "execution_count": 30,
   "metadata": {
    "_kg_hide-input": true,
    "_uuid": "ac6e86379a359f5156eb1eb36a85cd3cc0ca0a57"
   },
   "outputs": [
    {
     "data": {
      "image/png": "[encoded data removed]",
      "text/plain": [
       "<Figure size 864x576 with 1 Axes>"
      ]
     },
     "metadata": {
      "needs_background": "light"
     },
     "output_type": "display_data"
    }
   ],
   "source": [
    "bins = [0, 10, 20, 30, 40, 50, 75, 10000]\n",
    "train_df['binned_num_merch_transactions'] = pd.cut(train_df['num_merch_transactions'], bins)\n",
    "cnt_srs = train_df.groupby(\"binned_num_merch_transactions\")[target_col].mean()\n",
    "\n",
    "plt.figure(figsize=(12,8))\n",
    "sns.boxplot(x=\"binned_num_merch_transactions\", y=target_col, data=train_df, showfliers=False)\n",
    "plt.xticks(rotation='vertical')\n",
    "plt.xlabel('binned_num_merch_transactions', fontsize=12)\n",
    "plt.ylabel('Loyalty score', fontsize=12)\n",
    "plt.title(\"Number of new merchants transaction (Binned) distribution\")\n",
    "plt.show()"
   ]
  },
  {
   "cell_type": "markdown",
   "metadata": {
    "_uuid": "0599ae300ccdb23a5285b35f267837f25421b718"
   },
   "source": [
    "Loyalty score seem to decrease as the number of new merchant transactions increases except for the last bin. "
   ]
  },
  {
   "cell_type": "code",
   "execution_count": 31,
   "metadata": {
    "_kg_hide-input": true,
    "_uuid": "b860890fa58461a623b3706e8f1509b33902c660"
   },
   "outputs": [],
   "source": [
    "gdf = new_trans_df.groupby(\"card_id\")\n",
    "gdf = gdf[\"purchase_amount\"].agg(['sum', 'mean', 'std', 'min', 'max']).reset_index()\n",
    "gdf.columns = [\"card_id\", \"sum_merch_trans\", \"mean_merch_trans\", \"std_merch_trans\", \"min_merch_trans\", \"max_merch_trans\"]\n",
    "train_df = pd.merge(train_df, gdf, on=\"card_id\", how=\"left\")\n",
    "test_df = pd.merge(test_df, gdf, on=\"card_id\", how=\"left\")"
   ]
  },
  {
   "cell_type": "code",
   "execution_count": 32,
   "metadata": {
    "_kg_hide-input": true,
    "_uuid": "9b3717a18720aa24f520c113161f2cb227367da9"
   },
   "outputs": [
    {
     "data": {
      "image/png": "[encoded data removed]",
      "text/plain": [
       "<Figure size 864x576 with 1 Axes>"
      ]
     },
     "metadata": {
      "needs_background": "light"
     },
     "output_type": "display_data"
    }
   ],
   "source": [
    "bins = np.nanpercentile(train_df[\"sum_merch_trans\"], range(0,101,10))\n",
    "train_df['binned_sum_merch_trans'] = pd.cut(train_df['sum_merch_trans'], bins)\n",
    "#cnt_srs = train_df.groupby(\"binned_sum_hist_trans\")[target_col].mean()\n",
    "\n",
    "plt.figure(figsize=(12,8))\n",
    "sns.boxplot(x=\"binned_sum_merch_trans\", y=target_col, data=train_df, showfliers=False)\n",
    "plt.xticks(rotation='vertical')\n",
    "plt.xlabel('binned sum of new merchant transactions', fontsize=12)\n",
    "plt.ylabel('Loyalty score', fontsize=12)\n",
    "plt.title(\"Sum of New merchants transaction value (Binned) distribution\")\n",
    "plt.show()"
   ]
  },
  {
   "cell_type": "markdown",
   "metadata": {
    "_uuid": "03292ab9712d0f97da286fcbb2de672b5c0d70c0"
   },
   "source": [
    "Loyalty scores seem to increase with the increase in the sum of new merchant transaction values but for the last bin."
   ]
  },
  {
   "cell_type": "code",
   "execution_count": 33,
   "metadata": {
    "_kg_hide-input": true,
    "_uuid": "3ba9ac6783176fd0e369d659b8a7bd9b2259b2e5"
   },
   "outputs": [
    {
     "data": {
      "image/png": "[encoded data removed]",
      "text/plain": [
       "<Figure size 864x576 with 1 Axes>"
      ]
     },
     "metadata": {
      "needs_background": "light"
     },
     "output_type": "display_data"
    }
   ],
   "source": [
    "bins = np.nanpercentile(train_df[\"mean_merch_trans\"], range(0,101,10))\n",
    "train_df['binned_mean_merch_trans'] = pd.cut(train_df['mean_merch_trans'], bins)\n",
    "#cnt_srs = train_df.groupby(\"binned_sum_hist_trans\")[target_col].mean()\n",
    "\n",
    "plt.figure(figsize=(12,8))\n",
    "sns.boxplot(x=\"binned_mean_merch_trans\", y=target_col, data=train_df, showfliers=False)\n",
    "plt.xticks(rotation='vertical')\n",
    "plt.xlabel('binned mean of new merchant transactions', fontsize=12)\n",
    "plt.ylabel('Loyalty score', fontsize=12)\n",
    "plt.title(\"Mean of New merchants transaction value (Binned) distribution\")\n",
    "plt.show()"
   ]
  },
  {
   "cell_type": "markdown",
   "metadata": {
    "_uuid": "555afcb2ab2a11a4f0c667c8e8f18a3bd0c0acf9"
   },
   "source": [
    "### Building a baseline Model"
   ]
  },
  {
   "cell_type": "code",
   "execution_count": 34,
   "metadata": {
    "_uuid": "5471ee15f494ad6977a89eef7c12f130622099aa"
   },
   "outputs": [
    {
     "name": "stdout",
     "output_type": "stream",
     "text": [
      "Training until validation scores don't improve for 100 rounds\n",
      "[100]\tvalid_0's rmse: 3.81238\n",
      "[200]\tvalid_0's rmse: 3.81191\n",
      "Early stopping, best iteration is:\n",
      "[194]\tvalid_0's rmse: 3.8119\n",
      "Training until validation scores don't improve for 100 rounds\n",
      "[100]\tvalid_0's rmse: 3.75964\n",
      "[200]\tvalid_0's rmse: 3.75935\n",
      "Early stopping, best iteration is:\n",
      "[138]\tvalid_0's rmse: 3.75829\n",
      "Training until validation scores don't improve for 100 rounds\n",
      "[100]\tvalid_0's rmse: 3.80325\n",
      "[200]\tvalid_0's rmse: 3.80211\n",
      "Early stopping, best iteration is:\n",
      "[175]\tvalid_0's rmse: 3.80173\n",
      "Training until validation scores don't improve for 100 rounds\n",
      "[100]\tvalid_0's rmse: 3.79184\n",
      "[200]\tvalid_0's rmse: 3.7917\n",
      "Early stopping, best iteration is:\n",
      "[186]\tvalid_0's rmse: 3.79135\n",
      "Training until validation scores don't improve for 100 rounds\n",
      "[100]\tvalid_0's rmse: 3.8542\n",
      "[200]\tvalid_0's rmse: 3.85354\n",
      "Early stopping, best iteration is:\n",
      "[136]\tvalid_0's rmse: 3.85317\n"
     ]
    }
   ],
   "source": [
    "train_df[\"year\"] = train_df[\"first_active_month\"].dt.year\n",
    "test_df[\"year\"] = test_df[\"first_active_month\"].dt.year\n",
    "train_df[\"month\"] = train_df[\"first_active_month\"].dt.month\n",
    "test_df[\"month\"] = test_df[\"first_active_month\"].dt.month\n",
    "\n",
    "cols_to_use = [\"feature_1\", \"feature_2\", \"feature_3\", \"year\", \"month\", \n",
    "               \"num_hist_transactions\", \"sum_hist_trans\", \"mean_hist_trans\", \"std_hist_trans\", \n",
    "               \"min_hist_trans\", \"max_hist_trans\",\n",
    "               \"num_merch_transactions\", \"sum_merch_trans\", \"mean_merch_trans\", \"std_merch_trans\",\n",
    "               \"min_merch_trans\", \"max_merch_trans\",\n",
    "              ]\n",
    "\n",
    "def run_lgb(train_X, train_y, val_X, val_y, test_X):\n",
    "    params = {\n",
    "        \"objective\" : \"regression\",\n",
    "        \"metric\" : \"rmse\",\n",
    "        \"num_leaves\" : 30,\n",
    "        \"min_child_weight\" : 50,\n",
    "        \"learning_rate\" : 0.05,\n",
    "        \"bagging_fraction\" : 0.7,\n",
    "        \"feature_fraction\" : 0.7,\n",
    "        \"bagging_frequency\" : 5,\n",
    "        \"bagging_seed\" : 2018,\n",
    "        \"verbosity\" : -1\n",
    "    }\n",
    "    \n",
    "    lgtrain = lgb.Dataset(train_X, label=train_y)\n",
    "    lgval = lgb.Dataset(val_X, label=val_y)\n",
    "    evals_result = {}\n",
    "    model = lgb.train(params, lgtrain, 1000, valid_sets=[lgval], early_stopping_rounds=100, verbose_eval=100, evals_result=evals_result)\n",
    "    \n",
    "    pred_test_y = model.predict(test_X, num_iteration=model.best_iteration)\n",
    "    return pred_test_y, model, evals_result\n",
    "\n",
    "train_X = train_df[cols_to_use]\n",
    "test_X = test_df[cols_to_use]\n",
    "train_y = train_df[target_col].values\n",
    "\n",
    "pred_test = 0\n",
    "kf = model_selection.KFold(n_splits=5, random_state=2018, shuffle=True)\n",
    "for dev_index, val_index in kf.split(train_df):\n",
    "    dev_X, val_X = train_X.loc[dev_index,:], train_X.loc[val_index,:]\n",
    "    dev_y, val_y = train_y[dev_index], train_y[val_index]\n",
    "    \n",
    "    pred_test_tmp, model, evals_result = run_lgb(dev_X, dev_y, val_X, val_y, test_X)\n",
    "    pred_test += pred_test_tmp\n",
    "pred_test /= 5.\n",
    "    "
   ]
  },
  {
   "cell_type": "code",
   "execution_count": 35,
   "metadata": {
    "_uuid": "a6479cb3ed15c5556045d2fc048c56d614bee3a5"
   },
   "outputs": [
    {
     "data": {
      "image/png": "[encoded data removed]",
      "text/plain": [
       "<Figure size 864x720 with 1 Axes>"
      ]
     },
     "metadata": {
      "needs_background": "light"
     },
     "output_type": "display_data"
    }
   ],
   "source": [
    "fig, ax = plt.subplots(figsize=(12,10))\n",
    "lgb.plot_importance(model, max_num_features=50, height=0.8, ax=ax)\n",
    "ax.grid(False)\n",
    "plt.title(\"LightGBM - Feature Importance\", fontsize=15)\n",
    "plt.show()"
   ]
  },
  {
   "cell_type": "code",
   "execution_count": 36,
   "metadata": {
    "_uuid": "7371f1139137edebc6a475d2f3bffcbcdf6c1b00"
   },
   "outputs": [],
   "source": [
    "sub_df = pd.DataFrame({\"card_id\":test_df[\"card_id\"].values})\n",
    "sub_df[\"target\"] = pred_test\n",
    "sub_df.to_csv(\"baseline_lgb.csv\", index=False)"
   ]
  }
 ],
 "metadata": {
  "kernelspec": {
   "display_name": "Python 3",
   "language": "python",
   "name": "python3"
  },
  "language_info": {
   "codemirror_mode": {
    "name": "ipython",
    "version": 3
   },
   "file_extension": ".py",
   "mimetype": "text/x-python",
   "name": "python",
   "nbconvert_exporter": "python",
   "pygments_lexer": "ipython3",
   "version": "3.7.4"
  }
 },
 "nbformat": 4,
 "nbformat_minor": 1
}
